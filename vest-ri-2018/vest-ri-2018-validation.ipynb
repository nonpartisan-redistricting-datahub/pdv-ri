{
 "cells": [
  {
   "cell_type": "code",
   "execution_count": 1,
   "id": "fluid-highlight",
   "metadata": {},
   "outputs": [],
   "source": [
    "import pandas as pd\n",
    "import sys\n",
    "import numpy as np\n",
    "import geopandas as gp\n",
    "import matplotlib.pyplot as plt\n",
    "import json\n"
   ]
  },
  {
   "cell_type": "markdown",
   "id": "burning-situation",
   "metadata": {},
   "source": [
    "# VEST RI 2018"
   ]
  },
  {
   "cell_type": "markdown",
   "id": "greater-disclaimer",
   "metadata": {},
   "source": [
    "Note: This notebook performs only election data validation"
   ]
  },
  {
   "cell_type": "code",
   "execution_count": 2,
   "id": "instructional-actor",
   "metadata": {},
   "outputs": [],
   "source": [
    "STATE_NAME = 'ri'\n",
    "STATE_YEAR = '2018'"
   ]
  },
  {
   "cell_type": "markdown",
   "id": "suspended-greenhouse",
   "metadata": {},
   "source": [
    "#### Functions used"
   ]
  },
  {
   "cell_type": "markdown",
   "id": "strategic-possible",
   "metadata": {},
   "source": [
    "1. allocating votes"
   ]
  },
  {
   "cell_type": "code",
   "execution_count": 3,
   "id": "compatible-packing",
   "metadata": {},
   "outputs": [],
   "source": [
    "def allocate_absentee(df_receiving_votes,df_allocating,column_list,col_allocating):\n",
    "    original_cols = list(df_receiving_votes.columns)\n",
    "    \n",
    "    #Add in the \"Total Votes column\"\n",
    "    df_receiving_votes.loc[:,\"Total_Votes\"]=0\n",
    "    for race in column_list:\n",
    "        df_receiving_votes.loc[:,\"Total_Votes\"]+=df_receiving_votes.loc[:,race]\n",
    "    \n",
    "    #Create the needed dataframes\n",
    "    precinct_specific_totals = pd.DataFrame(df_receiving_votes.groupby([col_allocating]).sum())\n",
    "    precinct_specific_totals.reset_index(drop=False,inplace=True)\n",
    "    to_dole_out_totals = pd.DataFrame(df_allocating.groupby([col_allocating]).sum())\n",
    "    to_dole_out_totals.reset_index(drop=False,inplace=True)\n",
    "    \n",
    "    #Print out any instances where the allocation, as written, won't work\n",
    "    special_allocation_needed = []\n",
    "    for index, row in precinct_specific_totals.iterrows():\n",
    "        for race in column_list:\n",
    "            if (row[race]==0):\n",
    "                race_district = row[col_allocating]\n",
    "                if race_district in to_dole_out_totals[col_allocating].unique():\n",
    "                    to_allocate = int(to_dole_out_totals.loc[to_dole_out_totals[col_allocating]==race_district][race])\n",
    "                    if (to_allocate != 0):\n",
    "                        special_allocation_needed.append([race_district,race])\n",
    "    \n",
    "    #Create some new columns for each of these races to deal with the allocation\n",
    "    for race in column_list:\n",
    "        add_var = race+\"_add\"\n",
    "        rem_var = race+\"_rem\"\n",
    "        floor_var = race+\"_floor\"\n",
    "        df_receiving_votes.loc[:,add_var]=0.0\n",
    "        df_receiving_votes.loc[:,rem_var]=0.0\n",
    "        df_receiving_votes.loc[:,floor_var]=0.0\n",
    "\n",
    "    #Iterate over the rows\n",
    "    #Note this function iterates over the dataframe two times so the rounded vote totals match the totals to allocate\n",
    "    for index, row in df_receiving_votes.iterrows():\n",
    "        if row[col_allocating] in to_dole_out_totals[col_allocating].unique():\n",
    "            for race in column_list:\n",
    "                add_var = race+\"_add\"\n",
    "                rem_var = race+\"_rem\"\n",
    "                floor_var = race+\"_floor\"\n",
    "                #Grab the district\n",
    "                county_id = row[col_allocating]\n",
    "                if [county_id,race] in special_allocation_needed:\n",
    "                    #Get the denominator for the allocation - the summed \"total votes\" for precincts in that grouping\n",
    "                    denom = precinct_specific_totals.loc[precinct_specific_totals[col_allocating]==county_id][\"Total_Votes\"]\n",
    "                    #Get one of the numerators, how many districtwide votes to allocate\n",
    "                    numer = to_dole_out_totals.loc[to_dole_out_totals[col_allocating]==county_id][race]\n",
    "                    #Get the \"total votes\" for this particular precinct\n",
    "                    val = df_receiving_votes.at[index,\"Total_Votes\"]\n",
    "                    #Get the vote share, the precincts % of total precinct votes in the district times votes to allocate\n",
    "                else:\n",
    "                    #Get the denominator for the allocation (the precinct vote totals)\n",
    "                    denom = precinct_specific_totals.loc[precinct_specific_totals[col_allocating]==county_id][race]\n",
    "                    #Get one of the numerators, how many districtwide votes to allocate\n",
    "                    numer = to_dole_out_totals.loc[to_dole_out_totals[col_allocating]==county_id][race]\n",
    "                    #Get the vote totals for this race in this precinct\n",
    "                    val = df_receiving_votes.at[index,race]\n",
    "                    #Get the vote share, the precincts % of total precinct votes in the district times votes to allocate\n",
    "                if ((float(denom)==0)):\n",
    "                    vote_share = 0\n",
    "                else:\n",
    "                    vote_share = (float(val)/float(denom))*float(numer)\n",
    "                df_receiving_votes.at[index,add_var] = vote_share\n",
    "                #Take the decimal remainder of the allocation\n",
    "                df_receiving_votes.at[index,rem_var] = vote_share%1\n",
    "                #Take the floor of the allocation\n",
    "                df_receiving_votes.at[index,floor_var] = np.floor(vote_share)\n",
    "\n",
    "    #After the first pass through, get the sums of the races by district to assist in the rounding            \n",
    "    first_allocation = pd.DataFrame(df_receiving_votes.groupby([col_allocating]).sum())\n",
    "\n",
    "    #Now we want to iterate district by district to work on rounding\n",
    "    county_list = list(to_dole_out_totals[col_allocating].unique()) \n",
    "\n",
    "    #Iterate over the district\n",
    "    for county in county_list:\n",
    "        for race in column_list:\n",
    "            add_var = race+\"_add\"\n",
    "            rem_var = race+\"_rem\"\n",
    "            floor_var = race+\"_floor\"\n",
    "            #County how many votes still need to be allocated (because we took the floor of all the initial allocations)\n",
    "            to_go = int(np.round((int(to_dole_out_totals.loc[to_dole_out_totals[col_allocating]==county][race])-first_allocation.loc[first_allocation.index==county,floor_var])))\n",
    "            #Grab the n precincts with the highest remainders and round these up, where n is the # of votes that still need to be allocated\n",
    "            for index in df_receiving_votes.loc[df_receiving_votes[col_allocating]==county][rem_var].nlargest(to_go).index:\n",
    "                df_receiving_votes.at[index,add_var] = np.ceil(df_receiving_votes.at[index,add_var])\n",
    "\n",
    "    #Iterate over every race again\n",
    "    for race in column_list:\n",
    "        add_var = race+\"_add\"\n",
    "        #Round every allocation down to not add fractional votes\n",
    "        df_receiving_votes.loc[:,add_var]=np.floor(df_receiving_votes.loc[:,add_var])\n",
    "        df_receiving_votes.loc[:,race]+=df_receiving_votes.loc[:,add_var]\n",
    "        \n",
    "    df_receiving_votes = df_receiving_votes[original_cols]\n",
    "    \n",
    "    return df_receiving_votes"
   ]
  },
  {
   "cell_type": "markdown",
   "id": "brief-desert",
   "metadata": {},
   "source": [
    "2. precinct level validation"
   ]
  },
  {
   "cell_type": "code",
   "execution_count": 4,
   "id": "biological-customs",
   "metadata": {},
   "outputs": [],
   "source": [
    "def precinct_votes_check(merged_df,column_list,vest_on_left,name_col,print_level=0):\n",
    "    merged_df = merged_df.sort_values(by=[name_col],inplace=False)\n",
    "    matching_rows = 0\n",
    "    different_rows = 0\n",
    "    diff_list=[]\n",
    "    diff_values = []\n",
    "    max_diff = 0\n",
    "    for index,row in merged_df.iterrows():\n",
    "        same = True\n",
    "        for i in column_list:\n",
    "            left_data = i + \"_x\"\n",
    "            right_data = i + \"_y\"\n",
    "            if ((row[left_data] is None) or (row[right_data] is None) or (np.isnan(row[right_data])or(np.isnan(row[left_data])))):\n",
    "                print(\"FIX NaN value at: \", row[name_col])\n",
    "                return;\n",
    "            diff = abs(row[left_data]-row[right_data])\n",
    "            if (diff>0):\n",
    "                same = False\n",
    "                diff_values.append(abs(diff))\n",
    "                if (diff>max_diff):\n",
    "                    max_diff = diff\n",
    "            if(diff>print_level):\n",
    "                if (vest_on_left):\n",
    "                    print(i, \"{:.>72}\".format(row[name_col]), \"(V)\",\"{:.>5}\".format(int(row[left_data])),\" (S){:.>5}\".format(int(row[right_data])),\"(D):{:>5}\".format(int(row[left_data]-row[right_data])))                           \n",
    "                else:\n",
    "                    print(i, \"{:.>72}\".format(row[name_col]), \"(S)\",\"{:.>5}\".format(int(row[left_data])),\" (V){:.>5}\".format(int(row[right_data])),\"(D):{:>5}\".format(int(row[left_data]-row[right_data])))\n",
    "        if(same != True):\n",
    "            different_rows +=1\n",
    "            diff_list.append(row[name_col])\n",
    "        else:\n",
    "            matching_rows +=1\n",
    "    print(\"\")\n",
    "    print(\"There are \", len(merged_df.index),\" total rows\")\n",
    "    print(different_rows,\" of these rows have election result differences\")\n",
    "    print(matching_rows,\" of these rows are the same\")\n",
    "    print(\"\")\n",
    "    print(\"The max difference between any one shared column in a row is: \", max_diff)\n",
    "    if(len(diff_values)!=0):\n",
    "        print(\"The average difference is: \", str(sum(diff_values)/len(diff_values)))\n",
    "    count_big_diff = len([i for i in diff_values if i > 10])\n",
    "    print(\"There are \", str(count_big_diff), \"precinct results with a difference greater than 10\")\n",
    "    print(\"\")\n",
    "    print(\"All precincts containing differences:\")\n",
    "    diff_list.sort()\n",
    "    print(diff_list)"
   ]
  },
  {
   "cell_type": "markdown",
   "id": "relevant-berkeley",
   "metadata": {},
   "source": [
    "3. state level validation"
   ]
  },
  {
   "cell_type": "code",
   "execution_count": 5,
   "id": "widespread-amino",
   "metadata": {},
   "outputs": [],
   "source": [
    "def statewide_totals_check(partner_df,source_df,column_list):\n",
    "    print(\"***Statewide Totals Check***\")\n",
    "    for race in column_list:\n",
    "        if (sum(partner_df[race])- source_df[race].sum() != 0):\n",
    "            print(race+\" has a difference of \"+str(sum(partner_df[race])-source_df[race].sum())+\" votes\")\n",
    "            print(\"\\tVEST: \"+str(sum(partner_df[race]))+\" votes\")\n",
    "            print(\"\\tSOURCES: \"+str(source_df[race].sum())+\" votes\")\n",
    "        else:\n",
    "            print(race + \" is equal\", \"\\tVEST / RDH: \" + str(sum(partner_df[race])))"
   ]
  },
  {
   "cell_type": "markdown",
   "id": "prescription-donna",
   "metadata": {},
   "source": [
    "4. county level validation"
   ]
  },
  {
   "cell_type": "code",
   "execution_count": 6,
   "id": "protective-hammer",
   "metadata": {},
   "outputs": [],
   "source": [
    "def county_totals_check(partner_df,source_df,column_list,county_col,full_print=False):\n",
    "    print(\"***Countywide Totals Check***\")\n",
    "    print(\"\")\n",
    "    diff_counties=[]\n",
    "    for race in column_list:\n",
    "        diff = partner_df.groupby([county_col]).sum()[race]-source_df.groupby([county_col]).sum()[race]\n",
    "        for val in diff[diff != 0].index.values.tolist():\n",
    "            if val not in diff_counties:\n",
    "                diff_counties.append(val)\n",
    "        if len(diff[diff != 0]!=0):   \n",
    "            print(race + \" contains differences in these counties:\")\n",
    "            for val in diff[diff != 0].index.values.tolist():\n",
    "                county_differences = diff[diff != 0]\n",
    "                print(\"\\t\"+val+\" has a difference of \"+str(county_differences[val])+\" votes\")\n",
    "                print(\"\\t\\tVEST: \"+str(partner_df.groupby([county_col]).sum().loc[val,race])+\" votes\")\n",
    "                print(\"\\t\\tSOURCES: \"+str(source_df.groupby([county_col]).sum().loc[val,race])+\" votes\")\n",
    "            if (full_print):\n",
    "                for val in diff[diff == 0].index.values.tolist():\n",
    "                    county_similarities = diff[diff == 0]\n",
    "                    print(\"\\t\"+val + \": \"+ str(partner_df.groupby([county_col]).sum().loc[val,race])+\" votes\")\n",
    "        else:\n",
    "            print(race + \" is equal across all counties\")\n",
    "            if (full_print):\n",
    "                for val in diff[diff == 0].index.values.tolist():\n",
    "                    county_similarities = diff[diff == 0]\n",
    "                    print(\"\\t\"+val + \": \"+ str(partner_df.groupby([county_col]).sum().loc[val,race])+\" votes\")"
   ]
  },
  {
   "cell_type": "markdown",
   "id": "expensive-proxy",
   "metadata": {},
   "source": [
    "## VEST's Documentation File"
   ]
  },
  {
   "cell_type": "markdown",
   "id": "equal-security",
   "metadata": {},
   "source": [
    "### Sources"
   ]
  },
  {
   "cell_type": "markdown",
   "id": "exposed-breeding",
   "metadata": {},
   "source": [
    "Election results from Rhode Island Board of Elections (https://www.ri.gov/election/results/2016/general_election/data/)\n",
    "\n",
    "Precinct shapefile from the U.S. Census Bureau's 2020 Redistricting Data Program final release. (not applicable)"
   ]
  },
  {
   "cell_type": "markdown",
   "id": "valid-connecticut",
   "metadata": {},
   "source": [
    "### Processing"
   ]
  },
  {
   "cell_type": "markdown",
   "id": "electoral-european",
   "metadata": {},
   "source": [
    "Election data processing:\n",
    "   - Limited ballots were reported by township. \n",
    "   - Federal ballots were reported by congressional district. These were distributed by candidate to precincts based on their share of the precinct-level vote for the given reporting unit.\n",
    "\n",
    "\n",
    "Shapefile processing (non applicable):\n",
    "- Several precincts in Providence were aligned with the city ward shapefile. "
   ]
  },
  {
   "cell_type": "markdown",
   "id": "coastal-electricity",
   "metadata": {},
   "source": [
    "### Candidates"
   ]
  },
  {
   "cell_type": "markdown",
   "id": "fewer-dubai",
   "metadata": {},
   "source": [
    "#### U.S. Senate - USS"
   ]
  },
  {
   "cell_type": "markdown",
   "id": "entitled-hypothesis",
   "metadata": {},
   "source": [
    "- G18USSDWHI - Sheldon Whitehouse (Democratic Party)\n",
    "- G18USSRFLA - Robert G. Flanders Jr. (Republican Party)\n",
    "- G18USSOWRI - Write-in Votes"
   ]
  },
  {
   "cell_type": "markdown",
   "id": "heated-butler",
   "metadata": {},
   "source": [
    "#### Governor - GOV"
   ]
  },
  {
   "cell_type": "markdown",
   "id": "focal-brass",
   "metadata": {},
   "source": [
    "- G18GOVDRAI - Gina M. Raimondo (Democratic Party)\n",
    "- G18GOVRFUN - Allan W. Fung (Republican Party)\n",
    "- G18GOVITRI - Joseph A. Trillo (Independent)\n",
    "- G18GOVIMUN - Luis-Daniel Mu�oz (Independent)\n",
    "- G18GOVOGIL - William H. Gilbert (Moderate Party)\n",
    "- G18GOVOARM - Anne Armstrong (Compassion Party)\n",
    "- G18GOVOWRI - Write-in Votes"
   ]
  },
  {
   "cell_type": "markdown",
   "id": "reserved-protest",
   "metadata": {},
   "source": [
    "#### Lieutenant Governor - LTG"
   ]
  },
  {
   "cell_type": "markdown",
   "id": "complicated-glucose",
   "metadata": {},
   "source": [
    "- G18LTGDMCK - Daniel J. McKee (Democratic Party)\n",
    "- G18LTGRPEN - Paul E. Pence (Republican Party)\n",
    "- G18LTGIRIC - Jonathan J. Riccitelli (Independent)\n",
    "- G18LTGIMCC - Ross K. McCurdy (Independent)\n",
    "- G18LTGOHEL - Joel J. Hellmann (Moderate Party)\n",
    "- G18LTCOWRI - Write-in Votes"
   ]
  },
  {
   "cell_type": "markdown",
   "id": "grave-sarah",
   "metadata": {},
   "source": [
    "Note: Error in documentation, Write-In votes are recorded as G18 LTC OWRI, as opposed to G18 LTG OWRTI, with a G potentially mistaken for a C"
   ]
  },
  {
   "cell_type": "markdown",
   "id": "beginning-launch",
   "metadata": {},
   "source": [
    "#### Attorney General - ATG"
   ]
  },
  {
   "cell_type": "markdown",
   "id": "advised-november",
   "metadata": {},
   "source": [
    "- G18ATGDNER - Peter F. Neronha (Democratic Party)\n",
    "- G18ATGOGOR - Alan Gordon (Compassion Party)\n",
    "- G18ATGOWRI - Write-in Votes"
   ]
  },
  {
   "cell_type": "markdown",
   "id": "reduced-prison",
   "metadata": {},
   "source": [
    "#### Treasurer - TRE"
   ]
  },
  {
   "cell_type": "markdown",
   "id": "minus-doubt",
   "metadata": {},
   "source": [
    "- G18TREDMAG - Seth Magaziner (Democratic Party)\n",
    "- G18TRERRIL - Michael G. Riley (Republican Party)\n",
    "- G18TREOWRI - Write-in Votes"
   ]
  },
  {
   "cell_type": "markdown",
   "id": "smart-screen",
   "metadata": {},
   "source": [
    "#### Secretary of State - SOS"
   ]
  },
  {
   "cell_type": "markdown",
   "id": "hawaiian-ranch",
   "metadata": {},
   "source": [
    "- G18SOSDGOR - Nellie M. Gorbea (Democratic Party)\n",
    "- G18SOSRCOR - Pat V. Cortellessa (Republican Party)\n",
    "- G18SOSOWRI - Write-in Votes"
   ]
  },
  {
   "cell_type": "code",
   "execution_count": 7,
   "id": "strong-speech",
   "metadata": {},
   "outputs": [],
   "source": [
    "races = [\n",
    "    #U.S. Senate\n",
    "    'G18USSDWHI',\n",
    "    'G18USSRFLA',\n",
    "    'G18USSOWRI',\n",
    "\n",
    "    # Governor\n",
    "    'G18GOVDRAI',\n",
    "    'G18GOVRFUN',\n",
    "    'G18GOVITRI',\n",
    "    'G18GOVIMUN',\n",
    "    'G18GOVOGIL',\n",
    "    'G18GOVOARM',\n",
    "    'G18GOVOWRI',\n",
    "\n",
    "    #Lieutenant Governor\n",
    "    'G18LTGDMCK',\n",
    "    'G18LTGRPEN',\n",
    "    'G18LTGIRIC',\n",
    "    'G18LTGIMCC',\n",
    "    'G18LTGOHEL',\n",
    "    'G18LTGOWRI', #LTC -> LTG error fixed \n",
    "\n",
    "    # Attorney General\n",
    "    'G18ATGDNER',\n",
    "    'G18ATGOGOR',\n",
    "    'G18ATGOWRI',\n",
    "\n",
    "    #Treasure\n",
    "    'G18TREDMAG',\n",
    "    'G18TRERRIL',\n",
    "    'G18TREOWRI',\n",
    "\n",
    "    # Secretary of State\n",
    "    'G18SOSDGOR',\n",
    "    'G18SOSRCOR',\n",
    "    'G18SOSOWRI'\n",
    "]"
   ]
  },
  {
   "cell_type": "markdown",
   "id": "announced-climate",
   "metadata": {},
   "source": [
    "## Load in VEST file"
   ]
  },
  {
   "cell_type": "code",
   "execution_count": 8,
   "id": "acute-lafayette",
   "metadata": {},
   "outputs": [],
   "source": [
    "state_name_year = STATE_NAME + '_' + STATE_YEAR\n",
    "path_to_vest_file = 'raw-from-source/VEST/' + state_name_year + '/' + state_name_year + '.shp'\n",
    "vest = gp.read_file(path_to_vest_file)"
   ]
  },
  {
   "cell_type": "code",
   "execution_count": 9,
   "id": "sweet-modeling",
   "metadata": {},
   "outputs": [
    {
     "data": {
      "text/plain": [
       "<Geographic 2D CRS: EPSG:4269>\n",
       "Name: NAD83\n",
       "Axis Info [ellipsoidal]:\n",
       "- Lat[north]: Geodetic latitude (degree)\n",
       "- Lon[east]: Geodetic longitude (degree)\n",
       "Area of Use:\n",
       "- name: North America - onshore and offshore: Canada - Alberta; British Columbia; Manitoba; New Brunswick; Newfoundland and Labrador; Northwest Territories; Nova Scotia; Nunavut; Ontario; Prince Edward Island; Quebec; Saskatchewan; Yukon. Puerto Rico. United States (USA) - Alabama; Alaska; Arizona; Arkansas; California; Colorado; Connecticut; Delaware; Florida; Georgia; Hawaii; Idaho; Illinois; Indiana; Iowa; Kansas; Kentucky; Louisiana; Maine; Maryland; Massachusetts; Michigan; Minnesota; Mississippi; Missouri; Montana; Nebraska; Nevada; New Hampshire; New Jersey; New Mexico; New York; North Carolina; North Dakota; Ohio; Oklahoma; Oregon; Pennsylvania; Rhode Island; South Carolina; South Dakota; Tennessee; Texas; Utah; Vermont; Virginia; Washington; West Virginia; Wisconsin; Wyoming. US Virgin Islands.  British Virgin Islands.\n",
       "- bounds: (167.65, 14.92, -47.74, 86.46)\n",
       "Datum: North American Datum 1983\n",
       "- Ellipsoid: GRS 1980\n",
       "- Prime Meridian: Greenwich"
      ]
     },
     "execution_count": 9,
     "metadata": {},
     "output_type": "execute_result"
    }
   ],
   "source": [
    "vest.crs"
   ]
  },
  {
   "cell_type": "code",
   "execution_count": 10,
   "id": "embedded-afternoon",
   "metadata": {},
   "outputs": [
    {
     "data": {
      "text/plain": [
       "<AxesSubplot:>"
      ]
     },
     "execution_count": 10,
     "metadata": {},
     "output_type": "execute_result"
    },
    {
     "data": {
      "image/png": "[encoded data removed]",
      "text/plain": [
       "<Figure size 432x288 with 1 Axes>"
      ]
     },
     "metadata": {
      "needs_background": "light"
     },
     "output_type": "display_data"
    }
   ],
   "source": [
    "vest.boundary.plot()"
   ]
  },
  {
   "cell_type": "code",
   "execution_count": 11,
   "id": "rapid-overview",
   "metadata": {},
   "outputs": [
    {
     "data": {
      "text/plain": [
       "Index(['STATEFP20', 'COUNTYFP20', 'VTDST20', 'GEOID20', 'NAME20', 'G18USSDWHI',\n",
       "       'G18USSRFLA', 'G18USSOWRI', 'G18GOVDRAI', 'G18GOVRFUN', 'G18GOVITRI',\n",
       "       'G18GOVIMUN', 'G18GOVOGIL', 'G18GOVOARM', 'G18GOVOWRI', 'G18LTGDMCK',\n",
       "       'G18LTGRPEN', 'G18LTGIRIC', 'G18LTGIMCC', 'G18LTGOHEL', 'G18LTGOWRI',\n",
       "       'G18ATGDNER', 'G18ATGOGOR', 'G18ATGOWRI', 'G18TREDMAG', 'G18TRERRIL',\n",
       "       'G18TREOWRI', 'G18SOSDGOR', 'G18SOSRCOR', 'G18SOSOWRI', 'geometry'],\n",
       "      dtype='object')"
      ]
     },
     "execution_count": 11,
     "metadata": {},
     "output_type": "execute_result"
    }
   ],
   "source": [
    "vest.columns"
   ]
  },
  {
   "cell_type": "code",
   "execution_count": 12,
   "id": "dense-movie",
   "metadata": {},
   "outputs": [
    {
     "data": {
      "text/html": [
       "<div>\n",
       "<style scoped>\n",
       "    .dataframe tbody tr th:only-of-type {\n",
       "        vertical-align: middle;\n",
       "    }\n",
       "\n",
       "    .dataframe tbody tr th {\n",
       "        vertical-align: top;\n",
       "    }\n",
       "\n",
       "    .dataframe thead th {\n",
       "        text-align: right;\n",
       "    }\n",
       "</style>\n",
       "<table border=\"1\" class=\"dataframe\">\n",
       "  <thead>\n",
       "    <tr style=\"text-align: right;\">\n",
       "      <th></th>\n",
       "      <th>STATEFP20</th>\n",
       "      <th>COUNTYFP20</th>\n",
       "      <th>VTDST20</th>\n",
       "      <th>GEOID20</th>\n",
       "      <th>NAME20</th>\n",
       "      <th>G18USSDWHI</th>\n",
       "      <th>G18USSRFLA</th>\n",
       "      <th>G18USSOWRI</th>\n",
       "      <th>G18GOVDRAI</th>\n",
       "      <th>G18GOVRFUN</th>\n",
       "      <th>...</th>\n",
       "      <th>G18ATGDNER</th>\n",
       "      <th>G18ATGOGOR</th>\n",
       "      <th>G18ATGOWRI</th>\n",
       "      <th>G18TREDMAG</th>\n",
       "      <th>G18TRERRIL</th>\n",
       "      <th>G18TREOWRI</th>\n",
       "      <th>G18SOSDGOR</th>\n",
       "      <th>G18SOSRCOR</th>\n",
       "      <th>G18SOSOWRI</th>\n",
       "      <th>geometry</th>\n",
       "    </tr>\n",
       "  </thead>\n",
       "  <tbody>\n",
       "    <tr>\n",
       "      <th>0</th>\n",
       "      <td>44</td>\n",
       "      <td>009</td>\n",
       "      <td>443208</td>\n",
       "      <td>44009443208</td>\n",
       "      <td>South Kingstown 8</td>\n",
       "      <td>1120</td>\n",
       "      <td>724</td>\n",
       "      <td>4</td>\n",
       "      <td>1040</td>\n",
       "      <td>611</td>\n",
       "      <td>...</td>\n",
       "      <td>1334</td>\n",
       "      <td>301</td>\n",
       "      <td>15</td>\n",
       "      <td>1144</td>\n",
       "      <td>643</td>\n",
       "      <td>0</td>\n",
       "      <td>1198</td>\n",
       "      <td>586</td>\n",
       "      <td>2</td>\n",
       "      <td>POLYGON ((-71.60673 41.41403, -71.60623 41.415...</td>\n",
       "    </tr>\n",
       "    <tr>\n",
       "      <th>1</th>\n",
       "      <td>44</td>\n",
       "      <td>007</td>\n",
       "      <td>440724</td>\n",
       "      <td>44007440724</td>\n",
       "      <td>Cranston 24</td>\n",
       "      <td>1024</td>\n",
       "      <td>281</td>\n",
       "      <td>3</td>\n",
       "      <td>912</td>\n",
       "      <td>309</td>\n",
       "      <td>...</td>\n",
       "      <td>1085</td>\n",
       "      <td>116</td>\n",
       "      <td>16</td>\n",
       "      <td>1005</td>\n",
       "      <td>275</td>\n",
       "      <td>2</td>\n",
       "      <td>1058</td>\n",
       "      <td>224</td>\n",
       "      <td>2</td>\n",
       "      <td>POLYGON ((-71.40395 41.77325, -71.40316 41.774...</td>\n",
       "    </tr>\n",
       "    <tr>\n",
       "      <th>2</th>\n",
       "      <td>44</td>\n",
       "      <td>005</td>\n",
       "      <td>ZZZZZZ</td>\n",
       "      <td>44005ZZZZZZ</td>\n",
       "      <td>Voting Districts Not Defined</td>\n",
       "      <td>0</td>\n",
       "      <td>0</td>\n",
       "      <td>0</td>\n",
       "      <td>0</td>\n",
       "      <td>0</td>\n",
       "      <td>...</td>\n",
       "      <td>0</td>\n",
       "      <td>0</td>\n",
       "      <td>0</td>\n",
       "      <td>0</td>\n",
       "      <td>0</td>\n",
       "      <td>0</td>\n",
       "      <td>0</td>\n",
       "      <td>0</td>\n",
       "      <td>0</td>\n",
       "      <td>POLYGON ((-71.50944 41.30773, -71.50660 41.312...</td>\n",
       "    </tr>\n",
       "    <tr>\n",
       "      <th>3</th>\n",
       "      <td>44</td>\n",
       "      <td>005</td>\n",
       "      <td>441501</td>\n",
       "      <td>44005441501</td>\n",
       "      <td>JAMESTOWN 1</td>\n",
       "      <td>1091</td>\n",
       "      <td>552</td>\n",
       "      <td>3</td>\n",
       "      <td>1024</td>\n",
       "      <td>459</td>\n",
       "      <td>...</td>\n",
       "      <td>1421</td>\n",
       "      <td>116</td>\n",
       "      <td>13</td>\n",
       "      <td>1102</td>\n",
       "      <td>479</td>\n",
       "      <td>1</td>\n",
       "      <td>1138</td>\n",
       "      <td>457</td>\n",
       "      <td>1</td>\n",
       "      <td>POLYGON ((-71.38543 41.55423, -71.38534 41.554...</td>\n",
       "    </tr>\n",
       "    <tr>\n",
       "      <th>4</th>\n",
       "      <td>44</td>\n",
       "      <td>005</td>\n",
       "      <td>441502</td>\n",
       "      <td>44005441502</td>\n",
       "      <td>JAMESTOWN 2</td>\n",
       "      <td>1084</td>\n",
       "      <td>534</td>\n",
       "      <td>3</td>\n",
       "      <td>947</td>\n",
       "      <td>513</td>\n",
       "      <td>...</td>\n",
       "      <td>1349</td>\n",
       "      <td>157</td>\n",
       "      <td>14</td>\n",
       "      <td>1074</td>\n",
       "      <td>493</td>\n",
       "      <td>2</td>\n",
       "      <td>1114</td>\n",
       "      <td>459</td>\n",
       "      <td>1</td>\n",
       "      <td>POLYGON ((-71.42190 41.44900, -71.41727 41.455...</td>\n",
       "    </tr>\n",
       "  </tbody>\n",
       "</table>\n",
       "<p>5 rows × 31 columns</p>\n",
       "</div>"
      ],
      "text/plain": [
       "  STATEFP20 COUNTYFP20 VTDST20      GEOID20                        NAME20  \\\n",
       "0        44        009  443208  44009443208             South Kingstown 8   \n",
       "1        44        007  440724  44007440724                   Cranston 24   \n",
       "2        44        005  ZZZZZZ  44005ZZZZZZ  Voting Districts Not Defined   \n",
       "3        44        005  441501  44005441501                   JAMESTOWN 1   \n",
       "4        44        005  441502  44005441502                   JAMESTOWN 2   \n",
       "\n",
       "   G18USSDWHI  G18USSRFLA  G18USSOWRI  G18GOVDRAI  G18GOVRFUN  ...  \\\n",
       "0        1120         724           4        1040         611  ...   \n",
       "1        1024         281           3         912         309  ...   \n",
       "2           0           0           0           0           0  ...   \n",
       "3        1091         552           3        1024         459  ...   \n",
       "4        1084         534           3         947         513  ...   \n",
       "\n",
       "   G18ATGDNER  G18ATGOGOR  G18ATGOWRI  G18TREDMAG  G18TRERRIL  G18TREOWRI  \\\n",
       "0        1334         301          15        1144         643           0   \n",
       "1        1085         116          16        1005         275           2   \n",
       "2           0           0           0           0           0           0   \n",
       "3        1421         116          13        1102         479           1   \n",
       "4        1349         157          14        1074         493           2   \n",
       "\n",
       "   G18SOSDGOR  G18SOSRCOR  G18SOSOWRI  \\\n",
       "0        1198         586           2   \n",
       "1        1058         224           2   \n",
       "2           0           0           0   \n",
       "3        1138         457           1   \n",
       "4        1114         459           1   \n",
       "\n",
       "                                            geometry  \n",
       "0  POLYGON ((-71.60673 41.41403, -71.60623 41.415...  \n",
       "1  POLYGON ((-71.40395 41.77325, -71.40316 41.774...  \n",
       "2  POLYGON ((-71.50944 41.30773, -71.50660 41.312...  \n",
       "3  POLYGON ((-71.38543 41.55423, -71.38534 41.554...  \n",
       "4  POLYGON ((-71.42190 41.44900, -71.41727 41.455...  \n",
       "\n",
       "[5 rows x 31 columns]"
      ]
     },
     "execution_count": 12,
     "metadata": {},
     "output_type": "execute_result"
    }
   ],
   "source": [
    "vest.head(5)"
   ]
  },
  {
   "cell_type": "code",
   "execution_count": 13,
   "id": "matched-louisiana",
   "metadata": {},
   "outputs": [
    {
     "data": {
      "text/plain": [
       "(423, 31)"
      ]
     },
     "execution_count": 13,
     "metadata": {},
     "output_type": "execute_result"
    }
   ],
   "source": [
    "vest.shape"
   ]
  },
  {
   "cell_type": "code",
   "execution_count": 14,
   "id": "similar-freedom",
   "metadata": {},
   "outputs": [
    {
     "data": {
      "text/plain": [
       "array(['44'], dtype=object)"
      ]
     },
     "execution_count": 14,
     "metadata": {},
     "output_type": "execute_result"
    }
   ],
   "source": [
    "vest.STATEFP20.unique()"
   ]
  },
  {
   "cell_type": "markdown",
   "id": "international-tonight",
   "metadata": {},
   "source": [
    "make sure VTDST20 is a unique column"
   ]
  },
  {
   "cell_type": "code",
   "execution_count": 15,
   "id": "physical-disorder",
   "metadata": {},
   "outputs": [],
   "source": [
    "assert(len(vest['VTDST20']) == len(vest['VTDST20'].unique()))"
   ]
  },
  {
   "cell_type": "markdown",
   "id": "opponent-membrane",
   "metadata": {},
   "source": [
    "Note: VTDST20 is a combination of two digit STATEFP20 (44) and the unique Precinct ID used by the source file"
   ]
  },
  {
   "cell_type": "markdown",
   "id": "surprising-teens",
   "metadata": {},
   "source": [
    "## Election Results"
   ]
  },
  {
   "cell_type": "markdown",
   "id": "occupational-produce",
   "metadata": {},
   "source": [
    "### Load, Clean, Pivot Election Results"
   ]
  },
  {
   "cell_type": "code",
   "execution_count": 16,
   "id": "coastal-sugar",
   "metadata": {},
   "outputs": [],
   "source": [
    "source_filepath = 'raw-from-source/Election_Results/rigen2018l.asc'"
   ]
  },
  {
   "cell_type": "markdown",
   "id": "peaceful-recipient",
   "metadata": {},
   "source": [
    "Using non-standard method of importing due to the format of the file (.asc)"
   ]
  },
  {
   "cell_type": "code",
   "execution_count": 17,
   "id": "stretch-carter",
   "metadata": {},
   "outputs": [],
   "source": [
    "with open(source_filepath) as f:\n",
    "    values = []\n",
    "    for idx, line in enumerate(f):\n",
    "        data = line.split('  ')\n",
    "        data = list(filter(None, data))\n",
    "        values.append(data)\n",
    "    raw_df = pd.DataFrame(values)"
   ]
  },
  {
   "cell_type": "markdown",
   "id": "liked-outdoors",
   "metadata": {},
   "source": [
    "create source race number to race name used by VEST"
   ]
  },
  {
   "cell_type": "code",
   "execution_count": 18,
   "id": "specified-rhythm",
   "metadata": {},
   "outputs": [],
   "source": [
    "race_num_to_name = {\n",
    "    '0301': 'USS',\n",
    "    '0304': 'GOV',\n",
    "    '0305': 'LTG',\n",
    "    '0306': 'SOS',\n",
    "    '0307': 'ATG',\n",
    "    '0308': 'TRE'\n",
    "}"
   ]
  },
  {
   "cell_type": "markdown",
   "id": "industrial-brazilian",
   "metadata": {},
   "source": [
    "isolate senator race due to different column naming"
   ]
  },
  {
   "cell_type": "code",
   "execution_count": 19,
   "id": "aggregate-surname",
   "metadata": {},
   "outputs": [
    {
     "data": {
      "text/html": [
       "<div>\n",
       "<style scoped>\n",
       "    .dataframe tbody tr th:only-of-type {\n",
       "        vertical-align: middle;\n",
       "    }\n",
       "\n",
       "    .dataframe tbody tr th {\n",
       "        vertical-align: top;\n",
       "    }\n",
       "\n",
       "    .dataframe thead th {\n",
       "        text-align: right;\n",
       "    }\n",
       "</style>\n",
       "<table border=\"1\" class=\"dataframe\">\n",
       "  <thead>\n",
       "    <tr style=\"text-align: right;\">\n",
       "      <th></th>\n",
       "      <th>race_num</th>\n",
       "      <th>race_name</th>\n",
       "      <th>candidate</th>\n",
       "      <th>candidate_name</th>\n",
       "      <th>precinct</th>\n",
       "      <th>precinct_name</th>\n",
       "      <th>votes</th>\n",
       "    </tr>\n",
       "  </thead>\n",
       "  <tbody>\n",
       "    <tr>\n",
       "      <th>0</th>\n",
       "      <td>0301</td>\n",
       "      <td>USS</td>\n",
       "      <td>001</td>\n",
       "      <td>Sheldon Whitehouse</td>\n",
       "      <td>0101</td>\n",
       "      <td>Barrington 0101</td>\n",
       "      <td>922</td>\n",
       "    </tr>\n",
       "    <tr>\n",
       "      <th>1</th>\n",
       "      <td>0301</td>\n",
       "      <td>USS</td>\n",
       "      <td>001</td>\n",
       "      <td>Sheldon Whitehouse</td>\n",
       "      <td>0102</td>\n",
       "      <td>Barrington 0102</td>\n",
       "      <td>1255</td>\n",
       "    </tr>\n",
       "    <tr>\n",
       "      <th>2</th>\n",
       "      <td>0301</td>\n",
       "      <td>USS</td>\n",
       "      <td>001</td>\n",
       "      <td>Sheldon Whitehouse</td>\n",
       "      <td>0103</td>\n",
       "      <td>Barrington 0103</td>\n",
       "      <td>999</td>\n",
       "    </tr>\n",
       "    <tr>\n",
       "      <th>3</th>\n",
       "      <td>0301</td>\n",
       "      <td>USS</td>\n",
       "      <td>001</td>\n",
       "      <td>Sheldon Whitehouse</td>\n",
       "      <td>0104</td>\n",
       "      <td>Barrington 0104</td>\n",
       "      <td>1192</td>\n",
       "    </tr>\n",
       "    <tr>\n",
       "      <th>4</th>\n",
       "      <td>0301</td>\n",
       "      <td>USS</td>\n",
       "      <td>001</td>\n",
       "      <td>Sheldon Whitehouse</td>\n",
       "      <td>0105</td>\n",
       "      <td>Barrington 0105</td>\n",
       "      <td>1200</td>\n",
       "    </tr>\n",
       "    <tr>\n",
       "      <th>...</th>\n",
       "      <td>...</td>\n",
       "      <td>...</td>\n",
       "      <td>...</td>\n",
       "      <td>...</td>\n",
       "      <td>...</td>\n",
       "      <td>...</td>\n",
       "      <td>...</td>\n",
       "    </tr>\n",
       "    <tr>\n",
       "      <th>1384</th>\n",
       "      <td>0301</td>\n",
       "      <td>USS</td>\n",
       "      <td>003</td>\n",
       "      <td>WRITE-IN</td>\n",
       "      <td>3911</td>\n",
       "      <td>Woonsocket 3911</td>\n",
       "      <td>1</td>\n",
       "    </tr>\n",
       "    <tr>\n",
       "      <th>1385</th>\n",
       "      <td>0301</td>\n",
       "      <td>USS</td>\n",
       "      <td>003</td>\n",
       "      <td>WRITE-IN</td>\n",
       "      <td>3912</td>\n",
       "      <td>Woonsocket 3912</td>\n",
       "      <td>0</td>\n",
       "    </tr>\n",
       "    <tr>\n",
       "      <th>1386</th>\n",
       "      <td>0301</td>\n",
       "      <td>USS</td>\n",
       "      <td>003</td>\n",
       "      <td>WRITE-IN</td>\n",
       "      <td>3913</td>\n",
       "      <td>Woonsocket Limited</td>\n",
       "      <td>0</td>\n",
       "    </tr>\n",
       "    <tr>\n",
       "      <th>1387</th>\n",
       "      <td>0301</td>\n",
       "      <td>USS</td>\n",
       "      <td>003</td>\n",
       "      <td>WRITE-IN</td>\n",
       "      <td>9001</td>\n",
       "      <td>Federal Precinct #1</td>\n",
       "      <td>0</td>\n",
       "    </tr>\n",
       "    <tr>\n",
       "      <th>1388</th>\n",
       "      <td>0301</td>\n",
       "      <td>USS</td>\n",
       "      <td>003</td>\n",
       "      <td>WRITE-IN</td>\n",
       "      <td>9002</td>\n",
       "      <td>Federal Precinct #2</td>\n",
       "      <td>0</td>\n",
       "    </tr>\n",
       "  </tbody>\n",
       "</table>\n",
       "<p>1389 rows × 7 columns</p>\n",
       "</div>"
      ],
      "text/plain": [
       "     race_num race_name candidate       candidate_name precinct  \\\n",
       "0        0301       USS       001   Sheldon Whitehouse     0101   \n",
       "1        0301       USS       001   Sheldon Whitehouse     0102   \n",
       "2        0301       USS       001   Sheldon Whitehouse     0103   \n",
       "3        0301       USS       001   Sheldon Whitehouse     0104   \n",
       "4        0301       USS       001   Sheldon Whitehouse     0105   \n",
       "...       ...       ...       ...                  ...      ...   \n",
       "1384     0301       USS       003             WRITE-IN     3911   \n",
       "1385     0301       USS       003             WRITE-IN     3912   \n",
       "1386     0301       USS       003             WRITE-IN     3913   \n",
       "1387     0301       USS       003             WRITE-IN     9001   \n",
       "1388     0301       USS       003             WRITE-IN     9002   \n",
       "\n",
       "            precinct_name  votes  \n",
       "0         Barrington 0101    922  \n",
       "1         Barrington 0102   1255  \n",
       "2         Barrington 0103    999  \n",
       "3         Barrington 0104   1192  \n",
       "4         Barrington 0105   1200  \n",
       "...                   ...    ...  \n",
       "1384      Woonsocket 3911      1  \n",
       "1385      Woonsocket 3912      0  \n",
       "1386   Woonsocket Limited      0  \n",
       "1387  Federal Precinct #1      0  \n",
       "1388  Federal Precinct #2      0  \n",
       "\n",
       "[1389 rows x 7 columns]"
      ]
     },
     "metadata": {},
     "output_type": "display_data"
    }
   ],
   "source": [
    "senator_df = pd.DataFrame()\n",
    "senator_df['race_num'] = raw_df[0].apply(lambda x: x[:4])\n",
    "senator_df['race_name'] = senator_df['race_num'].map(race_num_to_name)\n",
    "\n",
    "senator_df['candidate'] = raw_df[0].apply(lambda x: x[4:7])\n",
    "senator_df['candidate_name'] = raw_df[2]\n",
    "\n",
    "senator_df['precinct'] = raw_df[0].apply(lambda x: x[7:11])\n",
    "senator_df['precinct_name'] = raw_df[3]\n",
    "\n",
    "senator_df['votes'] = raw_df[0].apply(lambda x: x[11:17]).astype(int)\n",
    "senator_df = senator_df[senator_df['race_name'] == 'USS']\n",
    "\n",
    "display(senator_df)\n"
   ]
  },
  {
   "cell_type": "markdown",
   "id": "sustainable-beijing",
   "metadata": {},
   "source": [
    "Clean the resulting dataframe due to the following two issues:\n",
    "- Providence Limited is not split correctly into Providence and Limited to produce a correct county name - due to Providence Limited votes split into 2"
   ]
  },
  {
   "cell_type": "code",
   "execution_count": 20,
   "id": "modern-detector",
   "metadata": {},
   "outputs": [],
   "source": [
    "senator_df['township'] = senator_df['precinct_name'].apply(lambda x: x.rsplit(' ', 1)[0])\n",
    "senator_df['township'] = senator_df['township'].apply(lambda x: x.strip())\n",
    "senator_df['township'] = senator_df['township'].replace({'Providence Limited': 'Providence'})"
   ]
  },
  {
   "cell_type": "markdown",
   "id": "crude-coast",
   "metadata": {},
   "source": [
    "Create dictionaries to translate from id to township and from id to precinct name, to be used for vote allocation and validation"
   ]
  },
  {
   "cell_type": "code",
   "execution_count": 21,
   "id": "ultimate-flavor",
   "metadata": {},
   "outputs": [],
   "source": [
    "id_to_township = senator_df[['precinct', 'township']]\n",
    "id_to_township_dict = dict(id_to_township.values)\n",
    "id_to_name = senator_df[['precinct', 'precinct_name']]\n",
    "id_to_name_dict = dict(id_to_name.values)"
   ]
  },
  {
   "cell_type": "markdown",
   "id": "cooked-crossing",
   "metadata": {},
   "source": [
    "isolate non senator races"
   ]
  },
  {
   "cell_type": "code",
   "execution_count": 22,
   "id": "pediatric-pitch",
   "metadata": {},
   "outputs": [
    {
     "data": {
      "text/html": [
       "<div>\n",
       "<style scoped>\n",
       "    .dataframe tbody tr th:only-of-type {\n",
       "        vertical-align: middle;\n",
       "    }\n",
       "\n",
       "    .dataframe tbody tr th {\n",
       "        vertical-align: top;\n",
       "    }\n",
       "\n",
       "    .dataframe thead th {\n",
       "        text-align: right;\n",
       "    }\n",
       "</style>\n",
       "<table border=\"1\" class=\"dataframe\">\n",
       "  <thead>\n",
       "    <tr style=\"text-align: right;\">\n",
       "      <th></th>\n",
       "      <th>race_num</th>\n",
       "      <th>race_name</th>\n",
       "      <th>candidate</th>\n",
       "      <th>candidate_name</th>\n",
       "      <th>precinct</th>\n",
       "      <th>precinct_name</th>\n",
       "      <th>votes</th>\n",
       "    </tr>\n",
       "  </thead>\n",
       "  <tbody>\n",
       "    <tr>\n",
       "      <th>2778</th>\n",
       "      <td>0304</td>\n",
       "      <td>GOV</td>\n",
       "      <td>001</td>\n",
       "      <td>Gina M. Raimondo</td>\n",
       "      <td>0101</td>\n",
       "      <td>Barrington 0101</td>\n",
       "      <td>862</td>\n",
       "    </tr>\n",
       "    <tr>\n",
       "      <th>2779</th>\n",
       "      <td>0304</td>\n",
       "      <td>GOV</td>\n",
       "      <td>001</td>\n",
       "      <td>Gina M. Raimondo</td>\n",
       "      <td>0102</td>\n",
       "      <td>Barrington 0102</td>\n",
       "      <td>1163</td>\n",
       "    </tr>\n",
       "    <tr>\n",
       "      <th>2780</th>\n",
       "      <td>0304</td>\n",
       "      <td>GOV</td>\n",
       "      <td>001</td>\n",
       "      <td>Gina M. Raimondo</td>\n",
       "      <td>0103</td>\n",
       "      <td>Barrington 0103</td>\n",
       "      <td>1046</td>\n",
       "    </tr>\n",
       "    <tr>\n",
       "      <th>2781</th>\n",
       "      <td>0304</td>\n",
       "      <td>GOV</td>\n",
       "      <td>001</td>\n",
       "      <td>Gina M. Raimondo</td>\n",
       "      <td>0104</td>\n",
       "      <td>Barrington 0104</td>\n",
       "      <td>1125</td>\n",
       "    </tr>\n",
       "    <tr>\n",
       "      <th>2782</th>\n",
       "      <td>0304</td>\n",
       "      <td>GOV</td>\n",
       "      <td>001</td>\n",
       "      <td>Gina M. Raimondo</td>\n",
       "      <td>0105</td>\n",
       "      <td>Barrington 0105</td>\n",
       "      <td>1180</td>\n",
       "    </tr>\n",
       "    <tr>\n",
       "      <th>...</th>\n",
       "      <td>...</td>\n",
       "      <td>...</td>\n",
       "      <td>...</td>\n",
       "      <td>...</td>\n",
       "      <td>...</td>\n",
       "      <td>...</td>\n",
       "      <td>...</td>\n",
       "    </tr>\n",
       "    <tr>\n",
       "      <th>12915</th>\n",
       "      <td>0308</td>\n",
       "      <td>TRE</td>\n",
       "      <td>003</td>\n",
       "      <td>WRITE-IN</td>\n",
       "      <td>3909</td>\n",
       "      <td>Woonsocket 3909</td>\n",
       "      <td>0</td>\n",
       "    </tr>\n",
       "    <tr>\n",
       "      <th>12916</th>\n",
       "      <td>0308</td>\n",
       "      <td>TRE</td>\n",
       "      <td>003</td>\n",
       "      <td>WRITE-IN</td>\n",
       "      <td>3910</td>\n",
       "      <td>Woonsocket 3910</td>\n",
       "      <td>2</td>\n",
       "    </tr>\n",
       "    <tr>\n",
       "      <th>12917</th>\n",
       "      <td>0308</td>\n",
       "      <td>TRE</td>\n",
       "      <td>003</td>\n",
       "      <td>WRITE-IN</td>\n",
       "      <td>3911</td>\n",
       "      <td>Woonsocket 3911</td>\n",
       "      <td>3</td>\n",
       "    </tr>\n",
       "    <tr>\n",
       "      <th>12918</th>\n",
       "      <td>0308</td>\n",
       "      <td>TRE</td>\n",
       "      <td>003</td>\n",
       "      <td>WRITE-IN</td>\n",
       "      <td>3912</td>\n",
       "      <td>Woonsocket 3912</td>\n",
       "      <td>1</td>\n",
       "    </tr>\n",
       "    <tr>\n",
       "      <th>12919</th>\n",
       "      <td>0308</td>\n",
       "      <td>TRE</td>\n",
       "      <td>003</td>\n",
       "      <td>WRITE-IN</td>\n",
       "      <td>3913</td>\n",
       "      <td>Woonsocket Limited</td>\n",
       "      <td>0</td>\n",
       "    </tr>\n",
       "  </tbody>\n",
       "</table>\n",
       "<p>10142 rows × 7 columns</p>\n",
       "</div>"
      ],
      "text/plain": [
       "      race_num race_name candidate    candidate_name precinct  \\\n",
       "2778      0304       GOV       001  Gina M. Raimondo     0101   \n",
       "2779      0304       GOV       001  Gina M. Raimondo     0102   \n",
       "2780      0304       GOV       001  Gina M. Raimondo     0103   \n",
       "2781      0304       GOV       001  Gina M. Raimondo     0104   \n",
       "2782      0304       GOV       001  Gina M. Raimondo     0105   \n",
       "...        ...       ...       ...               ...      ...   \n",
       "12915     0308       TRE       003          WRITE-IN     3909   \n",
       "12916     0308       TRE       003          WRITE-IN     3910   \n",
       "12917     0308       TRE       003          WRITE-IN     3911   \n",
       "12918     0308       TRE       003          WRITE-IN     3912   \n",
       "12919     0308       TRE       003          WRITE-IN     3913   \n",
       "\n",
       "            precinct_name  votes  \n",
       "2778      Barrington 0101    862  \n",
       "2779      Barrington 0102   1163  \n",
       "2780      Barrington 0103   1046  \n",
       "2781      Barrington 0104   1125  \n",
       "2782      Barrington 0105   1180  \n",
       "...                   ...    ...  \n",
       "12915     Woonsocket 3909      0  \n",
       "12916     Woonsocket 3910      2  \n",
       "12917     Woonsocket 3911      3  \n",
       "12918     Woonsocket 3912      1  \n",
       "12919  Woonsocket Limited      0  \n",
       "\n",
       "[10142 rows x 7 columns]"
      ]
     },
     "execution_count": 22,
     "metadata": {},
     "output_type": "execute_result"
    }
   ],
   "source": [
    "other_race_list = ['GOV','LTG','SOS','ATG','TRE']\n",
    "\n",
    "race_df = pd.DataFrame()\n",
    "race_df['race_num'] = raw_df[0].apply(lambda x: x[:4])\n",
    "race_df['race_name'] = race_df['race_num'].map(race_num_to_name)\n",
    "\n",
    "race_df['candidate'] = raw_df[0].apply(lambda x: x[4:7])\n",
    "race_df['candidate_name'] = raw_df[1]\n",
    "\n",
    "race_df['precinct'] = raw_df[0].apply(lambda x: x[7:11])\n",
    "race_df['precinct_name'] = raw_df[2]\n",
    "\n",
    "race_df['votes'] = raw_df[0].apply(lambda x: x[11:17]).astype(int)\n",
    "\n",
    "race_df = race_df[race_df['race_name'].isin(other_race_list)]\n",
    "race_df"
   ]
  },
  {
   "cell_type": "markdown",
   "id": "satellite-semiconductor",
   "metadata": {},
   "source": [
    "Combine both dataframes"
   ]
  },
  {
   "cell_type": "code",
   "execution_count": 23,
   "id": "hidden-niagara",
   "metadata": {},
   "outputs": [],
   "source": [
    "del senator_df['township']\n",
    "pre_pivot = pd.concat([senator_df, race_df])"
   ]
  },
  {
   "cell_type": "markdown",
   "id": "israeli-worst",
   "metadata": {},
   "source": [
    "Create a new column that combines race number and candidate number to create unique columns in final dataframe"
   ]
  },
  {
   "cell_type": "code",
   "execution_count": 24,
   "id": "tribal-relations",
   "metadata": {},
   "outputs": [],
   "source": [
    "pre_pivot['race_cand'] = pre_pivot['race_num'] + pre_pivot['candidate']"
   ]
  },
  {
   "cell_type": "markdown",
   "id": "upper-rating",
   "metadata": {},
   "source": [
    "Create a dictionary that translates from race_cand column to VEST race name"
   ]
  },
  {
   "cell_type": "code",
   "execution_count": 25,
   "id": "green-shadow",
   "metadata": {},
   "outputs": [],
   "source": [
    "race_cand_to_code_dict = {\n",
    "    #U.S. Senate\n",
    "    '0301001': 'G18USSDWHI',\n",
    "    '0301002': 'G18USSRFLA',\n",
    "    '0301003': 'G18USSOWRI',\n",
    "\n",
    "    # Governor\n",
    "    '0304001': 'G18GOVDRAI',\n",
    "    '0304003': 'G18GOVRFUN',\n",
    "    '0304006': 'G18GOVITRI',\n",
    "    '0304005': 'G18GOVIMUN',\n",
    "    '0304002': 'G18GOVOGIL',\n",
    "    '0304004': 'G18GOVOARM',\n",
    "    '0304007': 'G18GOVOWRI',\n",
    "\n",
    "    #Lieutenant Governor\n",
    "    '0305001': 'G18LTGDMCK',\n",
    "    '0305003': 'G18LTGRPEN',\n",
    "    '0305004': 'G18LTGIRIC',\n",
    "    '0305005': 'G18LTGIMCC',\n",
    "    '0305002': 'G18LTGOHEL',\n",
    "    '0305006': 'G18LTGOWRI', #LTC -> LTG error fixed \n",
    "\n",
    "    # Attorney General\n",
    "    '0307001': 'G18ATGDNER',\n",
    "    '0307002': 'G18ATGOGOR',\n",
    "    '0307003': 'G18ATGOWRI',\n",
    "\n",
    "    #Treasure\n",
    "    '0308001': 'G18TREDMAG',\n",
    "    '0308002': 'G18TRERRIL',\n",
    "    '0308003': 'G18TREOWRI',\n",
    "\n",
    "    # Secretary of State\n",
    "    '0306001': 'G18SOSDGOR',\n",
    "    '0306002': 'G18SOSRCOR',\n",
    "    '0306003': 'G18SOSOWRI'\n",
    "}"
   ]
  },
  {
   "cell_type": "markdown",
   "id": "manufactured-montgomery",
   "metadata": {},
   "source": [
    "#### Perform the pivot"
   ]
  },
  {
   "cell_type": "code",
   "execution_count": 26,
   "id": "czech-delhi",
   "metadata": {},
   "outputs": [],
   "source": [
    "pivoted = pd.pivot_table(pre_pivot,values=[\"votes\"],index=[\"precinct\"],columns=[\"race_cand\"],aggfunc=sum)\n",
    "pivoted=pivoted.fillna(0)\n",
    "pivoted.reset_index(drop=False,inplace=True)\n",
    "pivoted.columns = pivoted.columns.droplevel(0)\n"
   ]
  },
  {
   "cell_type": "markdown",
   "id": "answering-cylinder",
   "metadata": {},
   "source": [
    "Use source race code and cand name field to map to VEST race codes"
   ]
  },
  {
   "cell_type": "code",
   "execution_count": 27,
   "id": "electoral-amazon",
   "metadata": {},
   "outputs": [
    {
     "data": {
      "text/html": [
       "<div>\n",
       "<style scoped>\n",
       "    .dataframe tbody tr th:only-of-type {\n",
       "        vertical-align: middle;\n",
       "    }\n",
       "\n",
       "    .dataframe tbody tr th {\n",
       "        vertical-align: top;\n",
       "    }\n",
       "\n",
       "    .dataframe thead th {\n",
       "        text-align: right;\n",
       "    }\n",
       "</style>\n",
       "<table border=\"1\" class=\"dataframe\">\n",
       "  <thead>\n",
       "    <tr style=\"text-align: right;\">\n",
       "      <th></th>\n",
       "      <th>precinctid</th>\n",
       "      <th>G18USSDWHI</th>\n",
       "      <th>G18USSRFLA</th>\n",
       "      <th>G18USSOWRI</th>\n",
       "      <th>G18GOVDRAI</th>\n",
       "      <th>G18GOVOGIL</th>\n",
       "      <th>G18GOVRFUN</th>\n",
       "      <th>G18GOVOARM</th>\n",
       "      <th>G18GOVIMUN</th>\n",
       "      <th>G18GOVITRI</th>\n",
       "      <th>...</th>\n",
       "      <th>G18LTGOWRI</th>\n",
       "      <th>G18SOSDGOR</th>\n",
       "      <th>G18SOSRCOR</th>\n",
       "      <th>G18SOSOWRI</th>\n",
       "      <th>G18ATGDNER</th>\n",
       "      <th>G18ATGOGOR</th>\n",
       "      <th>G18ATGOWRI</th>\n",
       "      <th>G18TREDMAG</th>\n",
       "      <th>G18TRERRIL</th>\n",
       "      <th>G18TREOWRI</th>\n",
       "    </tr>\n",
       "  </thead>\n",
       "  <tbody>\n",
       "    <tr>\n",
       "      <th>0</th>\n",
       "      <td>0101</td>\n",
       "      <td>922.0</td>\n",
       "      <td>491.0</td>\n",
       "      <td>5.0</td>\n",
       "      <td>862.0</td>\n",
       "      <td>32.0</td>\n",
       "      <td>430.0</td>\n",
       "      <td>14.0</td>\n",
       "      <td>21.0</td>\n",
       "      <td>56.0</td>\n",
       "      <td>...</td>\n",
       "      <td>13.0</td>\n",
       "      <td>986.0</td>\n",
       "      <td>401.0</td>\n",
       "      <td>1.0</td>\n",
       "      <td>1094.0</td>\n",
       "      <td>182.0</td>\n",
       "      <td>14.0</td>\n",
       "      <td>950.0</td>\n",
       "      <td>439.0</td>\n",
       "      <td>1.0</td>\n",
       "    </tr>\n",
       "    <tr>\n",
       "      <th>1</th>\n",
       "      <td>0102</td>\n",
       "      <td>1255.0</td>\n",
       "      <td>566.0</td>\n",
       "      <td>3.0</td>\n",
       "      <td>1163.0</td>\n",
       "      <td>35.0</td>\n",
       "      <td>502.0</td>\n",
       "      <td>20.0</td>\n",
       "      <td>20.0</td>\n",
       "      <td>73.0</td>\n",
       "      <td>...</td>\n",
       "      <td>18.0</td>\n",
       "      <td>1313.0</td>\n",
       "      <td>471.0</td>\n",
       "      <td>2.0</td>\n",
       "      <td>1418.0</td>\n",
       "      <td>244.0</td>\n",
       "      <td>11.0</td>\n",
       "      <td>1281.0</td>\n",
       "      <td>505.0</td>\n",
       "      <td>3.0</td>\n",
       "    </tr>\n",
       "    <tr>\n",
       "      <th>2</th>\n",
       "      <td>0103</td>\n",
       "      <td>999.0</td>\n",
       "      <td>481.0</td>\n",
       "      <td>5.0</td>\n",
       "      <td>1046.0</td>\n",
       "      <td>25.0</td>\n",
       "      <td>361.0</td>\n",
       "      <td>6.0</td>\n",
       "      <td>8.0</td>\n",
       "      <td>33.0</td>\n",
       "      <td>...</td>\n",
       "      <td>14.0</td>\n",
       "      <td>1061.0</td>\n",
       "      <td>391.0</td>\n",
       "      <td>1.0</td>\n",
       "      <td>1186.0</td>\n",
       "      <td>143.0</td>\n",
       "      <td>19.0</td>\n",
       "      <td>1048.0</td>\n",
       "      <td>413.0</td>\n",
       "      <td>0.0</td>\n",
       "    </tr>\n",
       "    <tr>\n",
       "      <th>3</th>\n",
       "      <td>0104</td>\n",
       "      <td>1192.0</td>\n",
       "      <td>564.0</td>\n",
       "      <td>5.0</td>\n",
       "      <td>1125.0</td>\n",
       "      <td>48.0</td>\n",
       "      <td>501.0</td>\n",
       "      <td>11.0</td>\n",
       "      <td>18.0</td>\n",
       "      <td>50.0</td>\n",
       "      <td>...</td>\n",
       "      <td>18.0</td>\n",
       "      <td>1251.0</td>\n",
       "      <td>468.0</td>\n",
       "      <td>2.0</td>\n",
       "      <td>1395.0</td>\n",
       "      <td>186.0</td>\n",
       "      <td>11.0</td>\n",
       "      <td>1240.0</td>\n",
       "      <td>486.0</td>\n",
       "      <td>0.0</td>\n",
       "    </tr>\n",
       "    <tr>\n",
       "      <th>4</th>\n",
       "      <td>0105</td>\n",
       "      <td>1200.0</td>\n",
       "      <td>594.0</td>\n",
       "      <td>3.0</td>\n",
       "      <td>1180.0</td>\n",
       "      <td>37.0</td>\n",
       "      <td>476.0</td>\n",
       "      <td>18.0</td>\n",
       "      <td>17.0</td>\n",
       "      <td>54.0</td>\n",
       "      <td>...</td>\n",
       "      <td>36.0</td>\n",
       "      <td>1264.0</td>\n",
       "      <td>491.0</td>\n",
       "      <td>2.0</td>\n",
       "      <td>1381.0</td>\n",
       "      <td>216.0</td>\n",
       "      <td>21.0</td>\n",
       "      <td>1233.0</td>\n",
       "      <td>529.0</td>\n",
       "      <td>4.0</td>\n",
       "    </tr>\n",
       "    <tr>\n",
       "      <th>...</th>\n",
       "      <td>...</td>\n",
       "      <td>...</td>\n",
       "      <td>...</td>\n",
       "      <td>...</td>\n",
       "      <td>...</td>\n",
       "      <td>...</td>\n",
       "      <td>...</td>\n",
       "      <td>...</td>\n",
       "      <td>...</td>\n",
       "      <td>...</td>\n",
       "      <td>...</td>\n",
       "      <td>...</td>\n",
       "      <td>...</td>\n",
       "      <td>...</td>\n",
       "      <td>...</td>\n",
       "      <td>...</td>\n",
       "      <td>...</td>\n",
       "      <td>...</td>\n",
       "      <td>...</td>\n",
       "      <td>...</td>\n",
       "      <td>...</td>\n",
       "    </tr>\n",
       "    <tr>\n",
       "      <th>458</th>\n",
       "      <td>3911</td>\n",
       "      <td>559.0</td>\n",
       "      <td>326.0</td>\n",
       "      <td>1.0</td>\n",
       "      <td>520.0</td>\n",
       "      <td>10.0</td>\n",
       "      <td>298.0</td>\n",
       "      <td>17.0</td>\n",
       "      <td>13.0</td>\n",
       "      <td>32.0</td>\n",
       "      <td>...</td>\n",
       "      <td>3.0</td>\n",
       "      <td>565.0</td>\n",
       "      <td>296.0</td>\n",
       "      <td>1.0</td>\n",
       "      <td>628.0</td>\n",
       "      <td>184.0</td>\n",
       "      <td>9.0</td>\n",
       "      <td>548.0</td>\n",
       "      <td>292.0</td>\n",
       "      <td>3.0</td>\n",
       "    </tr>\n",
       "    <tr>\n",
       "      <th>459</th>\n",
       "      <td>3912</td>\n",
       "      <td>483.0</td>\n",
       "      <td>343.0</td>\n",
       "      <td>0.0</td>\n",
       "      <td>405.0</td>\n",
       "      <td>26.0</td>\n",
       "      <td>322.0</td>\n",
       "      <td>15.0</td>\n",
       "      <td>16.0</td>\n",
       "      <td>42.0</td>\n",
       "      <td>...</td>\n",
       "      <td>0.0</td>\n",
       "      <td>510.0</td>\n",
       "      <td>293.0</td>\n",
       "      <td>0.0</td>\n",
       "      <td>566.0</td>\n",
       "      <td>175.0</td>\n",
       "      <td>3.0</td>\n",
       "      <td>508.0</td>\n",
       "      <td>287.0</td>\n",
       "      <td>1.0</td>\n",
       "    </tr>\n",
       "    <tr>\n",
       "      <th>460</th>\n",
       "      <td>3913</td>\n",
       "      <td>0.0</td>\n",
       "      <td>0.0</td>\n",
       "      <td>0.0</td>\n",
       "      <td>0.0</td>\n",
       "      <td>0.0</td>\n",
       "      <td>0.0</td>\n",
       "      <td>0.0</td>\n",
       "      <td>0.0</td>\n",
       "      <td>0.0</td>\n",
       "      <td>...</td>\n",
       "      <td>0.0</td>\n",
       "      <td>0.0</td>\n",
       "      <td>0.0</td>\n",
       "      <td>0.0</td>\n",
       "      <td>0.0</td>\n",
       "      <td>0.0</td>\n",
       "      <td>0.0</td>\n",
       "      <td>0.0</td>\n",
       "      <td>0.0</td>\n",
       "      <td>0.0</td>\n",
       "    </tr>\n",
       "    <tr>\n",
       "      <th>461</th>\n",
       "      <td>9001</td>\n",
       "      <td>77.0</td>\n",
       "      <td>2.0</td>\n",
       "      <td>0.0</td>\n",
       "      <td>0.0</td>\n",
       "      <td>0.0</td>\n",
       "      <td>0.0</td>\n",
       "      <td>0.0</td>\n",
       "      <td>0.0</td>\n",
       "      <td>0.0</td>\n",
       "      <td>...</td>\n",
       "      <td>0.0</td>\n",
       "      <td>0.0</td>\n",
       "      <td>0.0</td>\n",
       "      <td>0.0</td>\n",
       "      <td>0.0</td>\n",
       "      <td>0.0</td>\n",
       "      <td>0.0</td>\n",
       "      <td>0.0</td>\n",
       "      <td>0.0</td>\n",
       "      <td>0.0</td>\n",
       "    </tr>\n",
       "    <tr>\n",
       "      <th>462</th>\n",
       "      <td>9002</td>\n",
       "      <td>62.0</td>\n",
       "      <td>1.0</td>\n",
       "      <td>0.0</td>\n",
       "      <td>0.0</td>\n",
       "      <td>0.0</td>\n",
       "      <td>0.0</td>\n",
       "      <td>0.0</td>\n",
       "      <td>0.0</td>\n",
       "      <td>0.0</td>\n",
       "      <td>...</td>\n",
       "      <td>0.0</td>\n",
       "      <td>0.0</td>\n",
       "      <td>0.0</td>\n",
       "      <td>0.0</td>\n",
       "      <td>0.0</td>\n",
       "      <td>0.0</td>\n",
       "      <td>0.0</td>\n",
       "      <td>0.0</td>\n",
       "      <td>0.0</td>\n",
       "      <td>0.0</td>\n",
       "    </tr>\n",
       "  </tbody>\n",
       "</table>\n",
       "<p>463 rows × 26 columns</p>\n",
       "</div>"
      ],
      "text/plain": [
       "    precinctid  G18USSDWHI  G18USSRFLA  G18USSOWRI  G18GOVDRAI  G18GOVOGIL  \\\n",
       "0         0101       922.0       491.0         5.0       862.0        32.0   \n",
       "1         0102      1255.0       566.0         3.0      1163.0        35.0   \n",
       "2         0103       999.0       481.0         5.0      1046.0        25.0   \n",
       "3         0104      1192.0       564.0         5.0      1125.0        48.0   \n",
       "4         0105      1200.0       594.0         3.0      1180.0        37.0   \n",
       "..         ...         ...         ...         ...         ...         ...   \n",
       "458       3911       559.0       326.0         1.0       520.0        10.0   \n",
       "459       3912       483.0       343.0         0.0       405.0        26.0   \n",
       "460       3913         0.0         0.0         0.0         0.0         0.0   \n",
       "461       9001        77.0         2.0         0.0         0.0         0.0   \n",
       "462       9002        62.0         1.0         0.0         0.0         0.0   \n",
       "\n",
       "     G18GOVRFUN  G18GOVOARM  G18GOVIMUN  G18GOVITRI  ...  G18LTGOWRI  \\\n",
       "0         430.0        14.0        21.0        56.0  ...        13.0   \n",
       "1         502.0        20.0        20.0        73.0  ...        18.0   \n",
       "2         361.0         6.0         8.0        33.0  ...        14.0   \n",
       "3         501.0        11.0        18.0        50.0  ...        18.0   \n",
       "4         476.0        18.0        17.0        54.0  ...        36.0   \n",
       "..          ...         ...         ...         ...  ...         ...   \n",
       "458       298.0        17.0        13.0        32.0  ...         3.0   \n",
       "459       322.0        15.0        16.0        42.0  ...         0.0   \n",
       "460         0.0         0.0         0.0         0.0  ...         0.0   \n",
       "461         0.0         0.0         0.0         0.0  ...         0.0   \n",
       "462         0.0         0.0         0.0         0.0  ...         0.0   \n",
       "\n",
       "     G18SOSDGOR  G18SOSRCOR  G18SOSOWRI  G18ATGDNER  G18ATGOGOR  G18ATGOWRI  \\\n",
       "0         986.0       401.0         1.0      1094.0       182.0        14.0   \n",
       "1        1313.0       471.0         2.0      1418.0       244.0        11.0   \n",
       "2        1061.0       391.0         1.0      1186.0       143.0        19.0   \n",
       "3        1251.0       468.0         2.0      1395.0       186.0        11.0   \n",
       "4        1264.0       491.0         2.0      1381.0       216.0        21.0   \n",
       "..          ...         ...         ...         ...         ...         ...   \n",
       "458       565.0       296.0         1.0       628.0       184.0         9.0   \n",
       "459       510.0       293.0         0.0       566.0       175.0         3.0   \n",
       "460         0.0         0.0         0.0         0.0         0.0         0.0   \n",
       "461         0.0         0.0         0.0         0.0         0.0         0.0   \n",
       "462         0.0         0.0         0.0         0.0         0.0         0.0   \n",
       "\n",
       "     G18TREDMAG  G18TRERRIL  G18TREOWRI  \n",
       "0         950.0       439.0         1.0  \n",
       "1        1281.0       505.0         3.0  \n",
       "2        1048.0       413.0         0.0  \n",
       "3        1240.0       486.0         0.0  \n",
       "4        1233.0       529.0         4.0  \n",
       "..          ...         ...         ...  \n",
       "458       548.0       292.0         3.0  \n",
       "459       508.0       287.0         1.0  \n",
       "460         0.0         0.0         0.0  \n",
       "461         0.0         0.0         0.0  \n",
       "462         0.0         0.0         0.0  \n",
       "\n",
       "[463 rows x 26 columns]"
      ]
     },
     "metadata": {},
     "output_type": "display_data"
    }
   ],
   "source": [
    "pivoted.columns = pivoted.columns.map(race_cand_to_code_dict)\n",
    "cols = pivoted.columns.to_list()\n",
    "del cols[0]\n",
    "cols = ['precinctid'] + cols\n",
    "pivoted.columns = cols\n",
    "display(pivoted)\n"
   ]
  },
  {
   "cell_type": "markdown",
   "id": "environmental-magnet",
   "metadata": {},
   "source": [
    "Use previously created dictionaries to create columns for township and precinct_name"
   ]
  },
  {
   "cell_type": "code",
   "execution_count": 28,
   "id": "bulgarian-annual",
   "metadata": {},
   "outputs": [],
   "source": [
    "pivoted['township'] = pivoted['precinctid'].map(id_to_township_dict)\n",
    "pivoted['precinct_name'] = pivoted['precinctid'].map(id_to_name_dict)\n"
   ]
  },
  {
   "cell_type": "markdown",
   "id": "innocent-eating",
   "metadata": {},
   "source": [
    "Isolate federal level votes for later distribution"
   ]
  },
  {
   "cell_type": "code",
   "execution_count": 29,
   "id": "racial-connecticut",
   "metadata": {},
   "outputs": [],
   "source": [
    "non_federal_df = pivoted[pivoted.township != 'Federal Precinct']\n",
    "federal_df = pivoted[pivoted.township == 'Federal Precinct']"
   ]
  },
  {
   "cell_type": "markdown",
   "id": "settled-special",
   "metadata": {},
   "source": [
    "#### Perform statewide election data validation"
   ]
  },
  {
   "cell_type": "code",
   "execution_count": 30,
   "id": "caring-hepatitis",
   "metadata": {},
   "outputs": [
    {
     "name": "stdout",
     "output_type": "stream",
     "text": [
      "***Statewide Totals Check***\n",
      "G18USSDWHI is equal \tVEST / RDH: 231477\n",
      "G18USSRFLA is equal \tVEST / RDH: 144421\n",
      "G18USSOWRI is equal \tVEST / RDH: 840\n",
      "G18GOVDRAI is equal \tVEST / RDH: 198122\n",
      "G18GOVRFUN is equal \tVEST / RDH: 139932\n",
      "G18GOVITRI is equal \tVEST / RDH: 16532\n",
      "G18GOVIMUN is equal \tVEST / RDH: 6223\n",
      "G18GOVOGIL is equal \tVEST / RDH: 10155\n",
      "G18GOVOARM is equal \tVEST / RDH: 4191\n",
      "G18GOVOWRI is equal \tVEST / RDH: 1246\n",
      "G18LTGDMCK is equal \tVEST / RDH: 226528\n",
      "G18LTGRPEN is equal \tVEST / RDH: 106505\n",
      "G18LTGIRIC is equal \tVEST / RDH: 9866\n",
      "G18LTGIMCC is equal \tVEST / RDH: 9408\n",
      "G18LTGOHEL is equal \tVEST / RDH: 11332\n",
      "G18LTGOWRI is equal \tVEST / RDH: 2513\n",
      "G18ATGDNER is equal \tVEST / RDH: 274350\n",
      "G18ATGOGOR is equal \tVEST / RDH: 65674\n",
      "G18ATGOWRI is equal \tVEST / RDH: 3657\n",
      "G18TREDMAG is equal \tVEST / RDH: 237575\n",
      "G18TRERRIL is equal \tVEST / RDH: 127944\n",
      "G18TREOWRI is equal \tVEST / RDH: 539\n",
      "G18SOSDGOR is equal \tVEST / RDH: 247276\n",
      "G18SOSRCOR is equal \tVEST / RDH: 119293\n",
      "G18SOSOWRI is equal \tVEST / RDH: 540\n"
     ]
    }
   ],
   "source": [
    "statewide_totals_check(vest,pivoted,races)"
   ]
  },
  {
   "cell_type": "markdown",
   "id": "geological-sixth",
   "metadata": {},
   "source": [
    "Township-by-township election data validation is performed after vote allocation (due to federal level vote distribution)"
   ]
  },
  {
   "cell_type": "markdown",
   "id": "parliamentary-poetry",
   "metadata": {},
   "source": [
    "### Distribute federal and township level votes"
   ]
  },
  {
   "cell_type": "markdown",
   "id": "spanish-purple",
   "metadata": {},
   "source": [
    "Township-level distribution first results in 28 precincts being off by 1, while federal-level distribution first results in 34 - therefore the former is preferred"
   ]
  },
  {
   "cell_type": "markdown",
   "id": "damaged-construction",
   "metadata": {},
   "source": [
    "#### Distribute township-level votes"
   ]
  },
  {
   "cell_type": "markdown",
   "id": "classified-mexico",
   "metadata": {},
   "source": [
    "Separate township-level and precinct-level votes into two dataframes"
   ]
  },
  {
   "cell_type": "code",
   "execution_count": 31,
   "id": "inner-draft",
   "metadata": {},
   "outputs": [],
   "source": [
    "townshipwide = non_federal_df[non_federal_df['precinct_name'].str.contains('Presidential|Limited')]\n",
    "non_townshipwide = non_federal_df.drop(townshipwide.index)"
   ]
  },
  {
   "cell_type": "markdown",
   "id": "mature-correspondence",
   "metadata": {},
   "source": [
    "Perform the distribution"
   ]
  },
  {
   "cell_type": "code",
   "execution_count": 32,
   "id": "sudden-retro",
   "metadata": {},
   "outputs": [],
   "source": [
    "pre_fed_dist = allocate_absentee(non_townshipwide,townshipwide,races,'township')"
   ]
  },
  {
   "cell_type": "markdown",
   "id": "changing-shirt",
   "metadata": {},
   "source": [
    "#### Distribute federal-level votes"
   ]
  },
  {
   "cell_type": "code",
   "execution_count": 33,
   "id": "historical-heating",
   "metadata": {},
   "outputs": [
    {
     "data": {
      "text/html": [
       "<div>\n",
       "<style scoped>\n",
       "    .dataframe tbody tr th:only-of-type {\n",
       "        vertical-align: middle;\n",
       "    }\n",
       "\n",
       "    .dataframe tbody tr th {\n",
       "        vertical-align: top;\n",
       "    }\n",
       "\n",
       "    .dataframe thead th {\n",
       "        text-align: right;\n",
       "    }\n",
       "</style>\n",
       "<table border=\"1\" class=\"dataframe\">\n",
       "  <thead>\n",
       "    <tr style=\"text-align: right;\">\n",
       "      <th></th>\n",
       "      <th>precinctid</th>\n",
       "      <th>G18USSDWHI</th>\n",
       "      <th>G18USSRFLA</th>\n",
       "      <th>G18USSOWRI</th>\n",
       "      <th>G18GOVDRAI</th>\n",
       "      <th>G18GOVOGIL</th>\n",
       "      <th>G18GOVRFUN</th>\n",
       "      <th>G18GOVOARM</th>\n",
       "      <th>G18GOVIMUN</th>\n",
       "      <th>G18GOVITRI</th>\n",
       "      <th>...</th>\n",
       "      <th>G18SOSRCOR</th>\n",
       "      <th>G18SOSOWRI</th>\n",
       "      <th>G18ATGDNER</th>\n",
       "      <th>G18ATGOGOR</th>\n",
       "      <th>G18ATGOWRI</th>\n",
       "      <th>G18TREDMAG</th>\n",
       "      <th>G18TRERRIL</th>\n",
       "      <th>G18TREOWRI</th>\n",
       "      <th>township</th>\n",
       "      <th>precinct_name</th>\n",
       "    </tr>\n",
       "  </thead>\n",
       "  <tbody>\n",
       "    <tr>\n",
       "      <th>461</th>\n",
       "      <td>9001</td>\n",
       "      <td>77.0</td>\n",
       "      <td>2.0</td>\n",
       "      <td>0.0</td>\n",
       "      <td>0.0</td>\n",
       "      <td>0.0</td>\n",
       "      <td>0.0</td>\n",
       "      <td>0.0</td>\n",
       "      <td>0.0</td>\n",
       "      <td>0.0</td>\n",
       "      <td>...</td>\n",
       "      <td>0.0</td>\n",
       "      <td>0.0</td>\n",
       "      <td>0.0</td>\n",
       "      <td>0.0</td>\n",
       "      <td>0.0</td>\n",
       "      <td>0.0</td>\n",
       "      <td>0.0</td>\n",
       "      <td>0.0</td>\n",
       "      <td>Federal Precinct</td>\n",
       "      <td>Federal Precinct #1</td>\n",
       "    </tr>\n",
       "    <tr>\n",
       "      <th>462</th>\n",
       "      <td>9002</td>\n",
       "      <td>62.0</td>\n",
       "      <td>1.0</td>\n",
       "      <td>0.0</td>\n",
       "      <td>0.0</td>\n",
       "      <td>0.0</td>\n",
       "      <td>0.0</td>\n",
       "      <td>0.0</td>\n",
       "      <td>0.0</td>\n",
       "      <td>0.0</td>\n",
       "      <td>...</td>\n",
       "      <td>0.0</td>\n",
       "      <td>0.0</td>\n",
       "      <td>0.0</td>\n",
       "      <td>0.0</td>\n",
       "      <td>0.0</td>\n",
       "      <td>0.0</td>\n",
       "      <td>0.0</td>\n",
       "      <td>0.0</td>\n",
       "      <td>Federal Precinct</td>\n",
       "      <td>Federal Precinct #2</td>\n",
       "    </tr>\n",
       "  </tbody>\n",
       "</table>\n",
       "<p>2 rows × 28 columns</p>\n",
       "</div>"
      ],
      "text/plain": [
       "    precinctid  G18USSDWHI  G18USSRFLA  G18USSOWRI  G18GOVDRAI  G18GOVOGIL  \\\n",
       "461       9001        77.0         2.0         0.0         0.0         0.0   \n",
       "462       9002        62.0         1.0         0.0         0.0         0.0   \n",
       "\n",
       "     G18GOVRFUN  G18GOVOARM  G18GOVIMUN  G18GOVITRI  ...  G18SOSRCOR  \\\n",
       "461         0.0         0.0         0.0         0.0  ...         0.0   \n",
       "462         0.0         0.0         0.0         0.0  ...         0.0   \n",
       "\n",
       "     G18SOSOWRI  G18ATGDNER  G18ATGOGOR  G18ATGOWRI  G18TREDMAG  G18TRERRIL  \\\n",
       "461         0.0         0.0         0.0         0.0         0.0         0.0   \n",
       "462         0.0         0.0         0.0         0.0         0.0         0.0   \n",
       "\n",
       "     G18TREOWRI          township        precinct_name  \n",
       "461         0.0  Federal Precinct  Federal Precinct #1  \n",
       "462         0.0  Federal Precinct  Federal Precinct #2  \n",
       "\n",
       "[2 rows x 28 columns]"
      ]
     },
     "execution_count": 33,
     "metadata": {},
     "output_type": "execute_result"
    }
   ],
   "source": [
    "federal_df"
   ]
  },
  {
   "cell_type": "markdown",
   "id": "threatened-prefix",
   "metadata": {},
   "source": [
    "Isolate Congress Representative election data "
   ]
  },
  {
   "cell_type": "code",
   "execution_count": 34,
   "id": "desperate-azerbaijan",
   "metadata": {},
   "outputs": [],
   "source": [
    "rep_df = raw_df[raw_df[0].str.contains('Representative in Congress District')]"
   ]
  },
  {
   "cell_type": "markdown",
   "id": "universal-transaction",
   "metadata": {},
   "source": [
    "Create a dataframe that contains precinct id and district number:\n",
    "- chars in position 108-111 correspond with district number\n",
    "- 0030 refers to district 1, while 0031 refers to district 2"
   ]
  },
  {
   "cell_type": "code",
   "execution_count": 35,
   "id": "unable-motivation",
   "metadata": {},
   "outputs": [],
   "source": [
    "district_df = pd.DataFrame()\n",
    "district_df['precinct'] = rep_df[0].apply(lambda x: x[7:11])\n",
    "district_df['district'] = rep_df[0].apply(lambda x: x[107:111])\n",
    "district_df['district'] = district_df['district'].replace({'0030': '1'})\n",
    "district_df['district'] = district_df['district'].replace({'0031': '2'})\n"
   ]
  },
  {
   "cell_type": "markdown",
   "id": "interested-stack",
   "metadata": {},
   "source": [
    "Convert the df into a dictionary to be used for vote distribution"
   ]
  },
  {
   "cell_type": "code",
   "execution_count": 36,
   "id": "centered-cannon",
   "metadata": {},
   "outputs": [],
   "source": [
    "id_to_district_dict = dict(district_df.values)"
   ]
  },
  {
   "cell_type": "markdown",
   "id": "driven-trout",
   "metadata": {},
   "source": [
    "Create a district column in both precinct-level and federal-level dfs"
   ]
  },
  {
   "cell_type": "code",
   "execution_count": 37,
   "id": "fresh-greene",
   "metadata": {},
   "outputs": [
    {
     "name": "stderr",
     "output_type": "stream",
     "text": [
      "<ipython-input-37-38a12efbbf88>:1: SettingWithCopyWarning: \n",
      "A value is trying to be set on a copy of a slice from a DataFrame.\n",
      "Try using .loc[row_indexer,col_indexer] = value instead\n",
      "\n",
      "See the caveats in the documentation: https://pandas.pydata.org/pandas-docs/stable/user_guide/indexing.html#returning-a-view-versus-a-copy\n",
      "  pre_fed_dist['district'] = pre_fed_dist['precinctid'].map(id_to_district_dict)\n",
      "<ipython-input-37-38a12efbbf88>:2: SettingWithCopyWarning: \n",
      "A value is trying to be set on a copy of a slice from a DataFrame.\n",
      "Try using .loc[row_indexer,col_indexer] = value instead\n",
      "\n",
      "See the caveats in the documentation: https://pandas.pydata.org/pandas-docs/stable/user_guide/indexing.html#returning-a-view-versus-a-copy\n",
      "  federal_df['district'] = federal_df['precinctid'].map(id_to_district_dict)\n"
     ]
    }
   ],
   "source": [
    "pre_fed_dist['district'] = pre_fed_dist['precinctid'].map(id_to_district_dict)\n",
    "federal_df['district'] = federal_df['precinctid'].map(id_to_district_dict)"
   ]
  },
  {
   "cell_type": "markdown",
   "id": "coordinated-harvard",
   "metadata": {},
   "source": [
    "Perform the distribution"
   ]
  },
  {
   "cell_type": "code",
   "execution_count": 38,
   "id": "diagnostic-comparative",
   "metadata": {},
   "outputs": [
    {
     "name": "stderr",
     "output_type": "stream",
     "text": [
      "/Users/izzy/opt/anaconda3/envs/geo_env/lib/python3.9/site-packages/pandas/core/indexing.py:1597: SettingWithCopyWarning: \n",
      "A value is trying to be set on a copy of a slice from a DataFrame.\n",
      "Try using .loc[row_indexer,col_indexer] = value instead\n",
      "\n",
      "See the caveats in the documentation: https://pandas.pydata.org/pandas-docs/stable/user_guide/indexing.html#returning-a-view-versus-a-copy\n",
      "  self.obj[key] = value\n",
      "/Users/izzy/opt/anaconda3/envs/geo_env/lib/python3.9/site-packages/pandas/core/indexing.py:1720: SettingWithCopyWarning: \n",
      "A value is trying to be set on a copy of a slice from a DataFrame.\n",
      "Try using .loc[row_indexer,col_indexer] = value instead\n",
      "\n",
      "See the caveats in the documentation: https://pandas.pydata.org/pandas-docs/stable/user_guide/indexing.html#returning-a-view-versus-a-copy\n",
      "  self._setitem_single_column(loc, value, pi)\n",
      "/Users/izzy/opt/anaconda3/envs/geo_env/lib/python3.9/site-packages/pandas/core/indexing.py:1676: SettingWithCopyWarning: \n",
      "A value is trying to be set on a copy of a slice from a DataFrame.\n",
      "Try using .loc[row_indexer,col_indexer] = value instead\n",
      "\n",
      "See the caveats in the documentation: https://pandas.pydata.org/pandas-docs/stable/user_guide/indexing.html#returning-a-view-versus-a-copy\n",
      "  self._setitem_single_column(ilocs[0], value, pi)\n"
     ]
    }
   ],
   "source": [
    "source = allocate_absentee(pre_fed_dist,federal_df,races,'district')"
   ]
  },
  {
   "cell_type": "markdown",
   "id": "stunning-skill",
   "metadata": {},
   "source": [
    "#### Perform township level election data validation"
   ]
  },
  {
   "cell_type": "markdown",
   "id": "african-toyota",
   "metadata": {},
   "source": [
    "Create a township column in vest df using names of precincts"
   ]
  },
  {
   "cell_type": "code",
   "execution_count": 39,
   "id": "natural-yesterday",
   "metadata": {},
   "outputs": [],
   "source": [
    "vest['township'] = vest['NAME20'].apply(lambda x: x.rsplit(' ', 1)[0].title())"
   ]
  },
  {
   "cell_type": "markdown",
   "id": "informed-distributor",
   "metadata": {},
   "source": [
    "Filter out township not present in source (which has zero votes and is not an official township)"
   ]
  },
  {
   "cell_type": "code",
   "execution_count": 40,
   "id": "constitutional-welsh",
   "metadata": {},
   "outputs": [],
   "source": [
    "vest_filter_township = vest[vest['township'] != 'Voting Districts Not']"
   ]
  },
  {
   "cell_type": "code",
   "execution_count": 41,
   "id": "detailed-hygiene",
   "metadata": {},
   "outputs": [
    {
     "data": {
      "text/html": [
       "<div>\n",
       "<style scoped>\n",
       "    .dataframe tbody tr th:only-of-type {\n",
       "        vertical-align: middle;\n",
       "    }\n",
       "\n",
       "    .dataframe tbody tr th {\n",
       "        vertical-align: top;\n",
       "    }\n",
       "\n",
       "    .dataframe thead th {\n",
       "        text-align: right;\n",
       "    }\n",
       "</style>\n",
       "<table border=\"1\" class=\"dataframe\">\n",
       "  <thead>\n",
       "    <tr style=\"text-align: right;\">\n",
       "      <th></th>\n",
       "      <th>STATEFP20</th>\n",
       "      <th>COUNTYFP20</th>\n",
       "      <th>VTDST20</th>\n",
       "      <th>GEOID20</th>\n",
       "      <th>NAME20</th>\n",
       "      <th>G18USSDWHI</th>\n",
       "      <th>G18USSRFLA</th>\n",
       "      <th>G18USSOWRI</th>\n",
       "      <th>G18GOVDRAI</th>\n",
       "      <th>G18GOVRFUN</th>\n",
       "      <th>...</th>\n",
       "      <th>G18ATGOGOR</th>\n",
       "      <th>G18ATGOWRI</th>\n",
       "      <th>G18TREDMAG</th>\n",
       "      <th>G18TRERRIL</th>\n",
       "      <th>G18TREOWRI</th>\n",
       "      <th>G18SOSDGOR</th>\n",
       "      <th>G18SOSRCOR</th>\n",
       "      <th>G18SOSOWRI</th>\n",
       "      <th>geometry</th>\n",
       "      <th>township</th>\n",
       "    </tr>\n",
       "  </thead>\n",
       "  <tbody>\n",
       "    <tr>\n",
       "      <th>2</th>\n",
       "      <td>44</td>\n",
       "      <td>005</td>\n",
       "      <td>ZZZZZZ</td>\n",
       "      <td>44005ZZZZZZ</td>\n",
       "      <td>Voting Districts Not Defined</td>\n",
       "      <td>0</td>\n",
       "      <td>0</td>\n",
       "      <td>0</td>\n",
       "      <td>0</td>\n",
       "      <td>0</td>\n",
       "      <td>...</td>\n",
       "      <td>0</td>\n",
       "      <td>0</td>\n",
       "      <td>0</td>\n",
       "      <td>0</td>\n",
       "      <td>0</td>\n",
       "      <td>0</td>\n",
       "      <td>0</td>\n",
       "      <td>0</td>\n",
       "      <td>POLYGON ((-71.50944 41.30773, -71.50660 41.312...</td>\n",
       "      <td>Voting Districts Not</td>\n",
       "    </tr>\n",
       "  </tbody>\n",
       "</table>\n",
       "<p>1 rows × 32 columns</p>\n",
       "</div>"
      ],
      "text/plain": [
       "  STATEFP20 COUNTYFP20 VTDST20      GEOID20                        NAME20  \\\n",
       "2        44        005  ZZZZZZ  44005ZZZZZZ  Voting Districts Not Defined   \n",
       "\n",
       "   G18USSDWHI  G18USSRFLA  G18USSOWRI  G18GOVDRAI  G18GOVRFUN  ...  \\\n",
       "2           0           0           0           0           0  ...   \n",
       "\n",
       "   G18ATGOGOR  G18ATGOWRI  G18TREDMAG  G18TRERRIL  G18TREOWRI  G18SOSDGOR  \\\n",
       "2           0           0           0           0           0           0   \n",
       "\n",
       "   G18SOSRCOR  G18SOSOWRI                                           geometry  \\\n",
       "2           0           0  POLYGON ((-71.50944 41.30773, -71.50660 41.312...   \n",
       "\n",
       "               township  \n",
       "2  Voting Districts Not  \n",
       "\n",
       "[1 rows x 32 columns]"
      ]
     },
     "metadata": {},
     "output_type": "display_data"
    }
   ],
   "source": [
    "display(vest[vest['township'] == 'Voting Districts Not'])"
   ]
  },
  {
   "cell_type": "markdown",
   "id": "together-driving",
   "metadata": {},
   "source": [
    "Check vote totals"
   ]
  },
  {
   "cell_type": "code",
   "execution_count": 42,
   "id": "thick-collectible",
   "metadata": {},
   "outputs": [
    {
     "name": "stdout",
     "output_type": "stream",
     "text": [
      "***Countywide Totals Check***\n",
      "\n",
      "G18USSDWHI contains differences in these counties:\n",
      "\tProvidence has a difference of 1.0 votes\n",
      "\t\tVEST: 36648 votes\n",
      "\t\tSOURCES: 36647.0 votes\n",
      "\tWarwick has a difference of -1.0 votes\n",
      "\t\tVEST: 19516 votes\n",
      "\t\tSOURCES: 19517.0 votes\n",
      "G18USSRFLA is equal across all counties\n",
      "G18USSOWRI is equal across all counties\n",
      "G18GOVDRAI is equal across all counties\n",
      "G18GOVRFUN is equal across all counties\n",
      "G18GOVITRI is equal across all counties\n",
      "G18GOVIMUN is equal across all counties\n",
      "G18GOVOGIL is equal across all counties\n",
      "G18GOVOARM is equal across all counties\n",
      "G18GOVOWRI is equal across all counties\n",
      "G18LTGDMCK is equal across all counties\n",
      "G18LTGRPEN is equal across all counties\n",
      "G18LTGIRIC is equal across all counties\n",
      "G18LTGIMCC is equal across all counties\n",
      "G18LTGOHEL is equal across all counties\n",
      "G18LTGOWRI is equal across all counties\n",
      "G18ATGDNER is equal across all counties\n",
      "G18ATGOGOR is equal across all counties\n",
      "G18ATGOWRI is equal across all counties\n",
      "G18TREDMAG is equal across all counties\n",
      "G18TRERRIL is equal across all counties\n",
      "G18TREOWRI is equal across all counties\n",
      "G18SOSDGOR is equal across all counties\n",
      "G18SOSRCOR is equal across all counties\n",
      "G18SOSOWRI is equal across all counties\n"
     ]
    }
   ],
   "source": [
    "county_totals_check(vest_filter_township,source,races,'township',full_print=False)"
   ]
  },
  {
   "cell_type": "markdown",
   "id": "experienced-tenant",
   "metadata": {},
   "source": [
    "### Merge Source and VEST df"
   ]
  },
  {
   "cell_type": "markdown",
   "id": "american-project",
   "metadata": {},
   "source": [
    "Create a joinid field"
   ]
  },
  {
   "cell_type": "code",
   "execution_count": 43,
   "id": "linear-publisher",
   "metadata": {},
   "outputs": [
    {
     "name": "stderr",
     "output_type": "stream",
     "text": [
      "<ipython-input-43-2cd22a1bd623>:2: SettingWithCopyWarning: \n",
      "A value is trying to be set on a copy of a slice from a DataFrame.\n",
      "Try using .loc[row_indexer,col_indexer] = value instead\n",
      "\n",
      "See the caveats in the documentation: https://pandas.pydata.org/pandas-docs/stable/user_guide/indexing.html#returning-a-view-versus-a-copy\n",
      "  source['joinid'] = vest.STATEFP20.unique()[0] + source['precinctid'].astype(str)\n"
     ]
    }
   ],
   "source": [
    "vest['joinid'] = vest['VTDST20']\n",
    "source['joinid'] = vest.STATEFP20.unique()[0] + source['precinctid'].astype(str)"
   ]
  },
  {
   "cell_type": "markdown",
   "id": "negative-taiwan",
   "metadata": {},
   "source": [
    "Perform the merge"
   ]
  },
  {
   "cell_type": "code",
   "execution_count": 44,
   "id": "liable-sessions",
   "metadata": {},
   "outputs": [
    {
     "name": "stdout",
     "output_type": "stream",
     "text": [
      "both          421\n",
      "left_only       2\n",
      "right_only      0\n",
      "Name: _merge, dtype: int64\n"
     ]
    }
   ],
   "source": [
    "join_attempt = pd.merge(vest,source,how=\"outer\",on=\"joinid\",indicator=True)\n",
    "print(join_attempt[\"_merge\"].value_counts())\n",
    "\n",
    "\n",
    "merged = join_attempt[join_attempt[\"_merge\"]==\"both\"]\n",
    "right_only = join_attempt[join_attempt[\"_merge\"]==\"right_only\"]\n",
    "left_only = join_attempt[join_attempt[\"_merge\"]==\"left_only\"]\n",
    "\n",
    "left_only.to_csv('./left_only.csv')"
   ]
  },
  {
   "cell_type": "markdown",
   "id": "given-block",
   "metadata": {},
   "source": [
    "Ensure non-merged precincts are zero-vote\n",
    "- Since left_only didn't merge, we'll be checking if any race_x votes are non_zero"
   ]
  },
  {
   "cell_type": "code",
   "execution_count": 45,
   "id": "polish-special",
   "metadata": {},
   "outputs": [
    {
     "name": "stdout",
     "output_type": "stream",
     "text": [
      "2\n"
     ]
    }
   ],
   "source": [
    "data_columns = races\n",
    "empty_precincts = []\n",
    "for index, row in left_only.iterrows():\n",
    "    number_of_zero_races = 0\n",
    "    for race in data_columns:\n",
    "        if (row[race + '_x']==0):\n",
    "            number_of_zero_races+= 1\n",
    "    if(number_of_zero_races == len(data_columns)):\n",
    "        empty_precincts.append(row[\"joinid\"])\n",
    "print(len(empty_precincts))\n",
    "assert(len(empty_precincts) == len(left_only))"
   ]
  },
  {
   "cell_type": "markdown",
   "id": "daily-overhead",
   "metadata": {},
   "source": [
    "Perform precinct-level validation"
   ]
  },
  {
   "cell_type": "code",
   "execution_count": 46,
   "id": "developed-arena",
   "metadata": {},
   "outputs": [
    {
     "name": "stdout",
     "output_type": "stream",
     "text": [
      "G18USSDWHI ..................................................................442803 (V) .1056  (S).1057 (D):   -1\n",
      "G18GOVDRAI ..................................................................442803 (V) .1054  (S).1055 (D):   -1\n",
      "G18ATGDNER ..................................................................442803 (V) .1077  (S).1078 (D):   -1\n",
      "G18TREDMAG ..................................................................442803 (V) .1048  (S).1049 (D):   -1\n",
      "G18SOSDGOR ..................................................................442803 (V) .1076  (S).1077 (D):   -1\n",
      "G18USSDWHI ..................................................................442805 (V) .1476  (S).1477 (D):   -1\n",
      "G18GOVDRAI ..................................................................442805 (V) .1442  (S).1443 (D):   -1\n",
      "G18LTGDMCK ..................................................................442805 (V) .1340  (S).1341 (D):   -1\n",
      "G18ATGDNER ..................................................................442805 (V) .1477  (S).1478 (D):   -1\n",
      "G18TREDMAG ..................................................................442805 (V) .1473  (S).1474 (D):   -1\n",
      "G18SOSDGOR ..................................................................442805 (V) .1477  (S).1478 (D):   -1\n",
      "G18USSDWHI ..................................................................442809 (V) .1183  (S).1184 (D):   -1\n",
      "G18GOVDRAI ..................................................................442809 (V) .1116  (S).1117 (D):   -1\n",
      "G18LTGDMCK ..................................................................442809 (V) .1066  (S).1067 (D):   -1\n",
      "G18ATGDNER ..................................................................442809 (V) .1152  (S).1153 (D):   -1\n",
      "G18TREDMAG ..................................................................442809 (V) .1176  (S).1177 (D):   -1\n",
      "G18SOSDGOR ..................................................................442809 (V) .1183  (S).1184 (D):   -1\n",
      "G18LTGIMCC ..................................................................442816 (V) ...49  (S)...50 (D):   -1\n",
      "G18USSDWHI ..................................................................442824 (V) .1105  (S).1106 (D):   -1\n",
      "G18GOVDRAI ..................................................................442824 (V) ..960  (S)..961 (D):   -1\n",
      "G18LTGDMCK ..................................................................442824 (V) .1042  (S).1043 (D):   -1\n",
      "G18ATGDNER ..................................................................442824 (V) .1041  (S).1042 (D):   -1\n",
      "G18TREDMAG ..................................................................442824 (V) .1044  (S).1045 (D):   -1\n",
      "G18SOSDGOR ..................................................................442824 (V) .1070  (S).1071 (D):   -1\n",
      "G18ATGDNER ..................................................................442849 (V) ..668  (S)..667 (D):    1\n",
      "G18LTGIMCC ..................................................................442854 (V) ...36  (S)...35 (D):    1\n",
      "G18USSDWHI ..................................................................442855 (V) ..858  (S)..857 (D):    1\n",
      "G18GOVDRAI ..................................................................442855 (V) ..776  (S)..775 (D):    1\n",
      "G18LTGDMCK ..................................................................442855 (V) ..849  (S)..848 (D):    1\n",
      "G18ATGDNER ..................................................................442855 (V) ..867  (S)..866 (D):    1\n",
      "G18TREDMAG ..................................................................442855 (V) ..839  (S)..838 (D):    1\n",
      "G18SOSDGOR ..................................................................442855 (V) ..877  (S)..876 (D):    1\n",
      "G18USSDWHI ..................................................................442861 (V) ..840  (S)..839 (D):    1\n",
      "G18GOVDRAI ..................................................................442861 (V) ..745  (S)..744 (D):    1\n",
      "G18LTGDMCK ..................................................................442861 (V) ..772  (S)..771 (D):    1\n",
      "G18ATGDNER ..................................................................442861 (V) ..801  (S)..800 (D):    1\n",
      "G18TREDMAG ..................................................................442861 (V) ..824  (S)..823 (D):    1\n",
      "G18SOSDGOR ..................................................................442861 (V) ..837  (S)..836 (D):    1\n",
      "G18USSDWHI ..................................................................442862 (V) ..906  (S)..905 (D):    1\n",
      "G18GOVDRAI ..................................................................442862 (V) ..821  (S)..820 (D):    1\n",
      "G18LTGDMCK ..................................................................442862 (V) ..809  (S)..808 (D):    1\n",
      "G18ATGDNER ..................................................................442862 (V) ..861  (S)..860 (D):    1\n",
      "G18TREDMAG ..................................................................442862 (V) ..860  (S)..859 (D):    1\n",
      "G18SOSDGOR ..................................................................442862 (V) ..894  (S)..893 (D):    1\n",
      "G18USSDWHI ..................................................................442866 (V) ..701  (S)..699 (D):    2\n",
      "G18GOVDRAI ..................................................................442866 (V) ..641  (S)..640 (D):    1\n",
      "G18TREDMAG ..................................................................442866 (V) ..684  (S)..683 (D):    1\n",
      "G18SOSDGOR ..................................................................442866 (V) ..698  (S)..697 (D):    1\n",
      "G18USSDWHI ..................................................................443513 (V) ..700  (S)..701 (D):   -1\n",
      "\n",
      "There are  421  total rows\n",
      "12  of these rows have election result differences\n",
      "409  of these rows are the same\n",
      "\n",
      "The max difference between any one shared column in a row is:  2.0\n",
      "The average difference is:  1.0204081632653061\n",
      "There are  0 precinct results with a difference greater than 10\n",
      "\n",
      "All precincts containing differences:\n",
      "['442803', '442805', '442809', '442816', '442824', '442849', '442854', '442855', '442861', '442862', '442866', '443513']\n"
     ]
    }
   ],
   "source": [
    "precinct_votes_check(merged,races,True,'joinid',print_level=0)\n"
   ]
  },
  {
   "cell_type": "code",
   "execution_count": null,
   "id": "active-shame",
   "metadata": {},
   "outputs": [],
   "source": []
  }
 ],
 "metadata": {
  "kernelspec": {
   "display_name": "Python 3",
   "language": "python",
   "name": "python3"
  },
  "language_info": {
   "codemirror_mode": {
    "name": "ipython",
    "version": 3
   },
   "file_extension": ".py",
   "mimetype": "text/x-python",
   "name": "python",
   "nbconvert_exporter": "python",
   "pygments_lexer": "ipython3",
   "version": "3.9.2"
  }
 },
 "nbformat": 4,
 "nbformat_minor": 5
}
