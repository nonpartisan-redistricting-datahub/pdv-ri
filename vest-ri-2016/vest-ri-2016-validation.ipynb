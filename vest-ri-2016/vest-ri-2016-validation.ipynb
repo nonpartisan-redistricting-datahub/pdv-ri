{
 "cells": [
  {
   "cell_type": "code",
   "execution_count": 2,
   "id": "integral-remedy",
   "metadata": {},
   "outputs": [],
   "source": [
    "import pandas as pd\n",
    "import sys\n",
    "import numpy as np\n",
    "import geopandas as gp\n",
    "import matplotlib.pyplot as plt\n",
    "import json\n"
   ]
  },
  {
   "cell_type": "markdown",
   "id": "sound-summary",
   "metadata": {},
   "source": [
    "# VEST RI 2016"
   ]
  },
  {
   "cell_type": "markdown",
   "id": "accompanied-george",
   "metadata": {},
   "source": [
    "Note: This notebook performs only election data validation"
   ]
  },
  {
   "cell_type": "code",
   "execution_count": 3,
   "id": "knowing-damages",
   "metadata": {},
   "outputs": [],
   "source": [
    "STATE_NAME = 'ri'\n",
    "STATE_YEAR = '2016'"
   ]
  },
  {
   "cell_type": "markdown",
   "id": "exterior-correction",
   "metadata": {},
   "source": [
    "#### Functions used"
   ]
  },
  {
   "cell_type": "markdown",
   "id": "focused-effects",
   "metadata": {},
   "source": [
    "1. allocating votes"
   ]
  },
  {
   "cell_type": "code",
   "execution_count": 4,
   "id": "trying-contamination",
   "metadata": {},
   "outputs": [],
   "source": [
    "def allocate_absentee(df_receiving_votes,df_allocating,column_list,col_allocating):\n",
    "    original_cols = list(df_receiving_votes.columns)\n",
    "    \n",
    "    #Add in the \"Total Votes column\"\n",
    "    df_receiving_votes.loc[:,\"Total_Votes\"]=0\n",
    "    for race in column_list:\n",
    "        df_receiving_votes.loc[:,\"Total_Votes\"]+=df_receiving_votes.loc[:,race]\n",
    "    \n",
    "    #Create the needed dataframes\n",
    "    precinct_specific_totals = pd.DataFrame(df_receiving_votes.groupby([col_allocating]).sum())\n",
    "    precinct_specific_totals.reset_index(drop=False,inplace=True)\n",
    "    to_dole_out_totals = pd.DataFrame(df_allocating.groupby([col_allocating]).sum())\n",
    "    to_dole_out_totals.reset_index(drop=False,inplace=True)\n",
    "    \n",
    "    #Print out any instances where the allocation, as written, won't work\n",
    "    special_allocation_needed = []\n",
    "    for index, row in precinct_specific_totals.iterrows():\n",
    "        for race in column_list:\n",
    "            if (row[race]==0):\n",
    "                race_district = row[col_allocating]\n",
    "                if race_district in to_dole_out_totals[col_allocating].unique():\n",
    "                    to_allocate = int(to_dole_out_totals.loc[to_dole_out_totals[col_allocating]==race_district][race])\n",
    "                    if (to_allocate != 0):\n",
    "                        special_allocation_needed.append([race_district,race])\n",
    "    \n",
    "    #Create some new columns for each of these races to deal with the allocation\n",
    "    for race in column_list:\n",
    "        add_var = race+\"_add\"\n",
    "        rem_var = race+\"_rem\"\n",
    "        floor_var = race+\"_floor\"\n",
    "        df_receiving_votes.loc[:,add_var]=0.0\n",
    "        df_receiving_votes.loc[:,rem_var]=0.0\n",
    "        df_receiving_votes.loc[:,floor_var]=0.0\n",
    "\n",
    "    #Iterate over the rows\n",
    "    #Note this function iterates over the dataframe two times so the rounded vote totals match the totals to allocate\n",
    "    for index, row in df_receiving_votes.iterrows():\n",
    "        if row[col_allocating] in to_dole_out_totals[col_allocating].unique():\n",
    "            for race in column_list:\n",
    "                add_var = race+\"_add\"\n",
    "                rem_var = race+\"_rem\"\n",
    "                floor_var = race+\"_floor\"\n",
    "                #Grab the district\n",
    "                county_id = row[col_allocating]\n",
    "                if [county_id,race] in special_allocation_needed:\n",
    "                    #Get the denominator for the allocation - the summed \"total votes\" for precincts in that grouping\n",
    "                    denom = precinct_specific_totals.loc[precinct_specific_totals[col_allocating]==county_id][\"Total_Votes\"]\n",
    "                    #Get one of the numerators, how many districtwide votes to allocate\n",
    "                    numer = to_dole_out_totals.loc[to_dole_out_totals[col_allocating]==county_id][race]\n",
    "                    #Get the \"total votes\" for this particular precinct\n",
    "                    val = df_receiving_votes.at[index,\"Total_Votes\"]\n",
    "                    #Get the vote share, the precincts % of total precinct votes in the district times votes to allocate\n",
    "                else:\n",
    "                    #Get the denominator for the allocation (the precinct vote totals)\n",
    "                    denom = precinct_specific_totals.loc[precinct_specific_totals[col_allocating]==county_id][race]\n",
    "                    #Get one of the numerators, how many districtwide votes to allocate\n",
    "                    numer = to_dole_out_totals.loc[to_dole_out_totals[col_allocating]==county_id][race]\n",
    "                    #Get the vote totals for this race in this precinct\n",
    "                    val = df_receiving_votes.at[index,race]\n",
    "                    #Get the vote share, the precincts % of total precinct votes in the district times votes to allocate\n",
    "                if ((float(denom)==0)):\n",
    "                    vote_share = 0\n",
    "                else:\n",
    "                    vote_share = (float(val)/float(denom))*float(numer)\n",
    "                df_receiving_votes.at[index,add_var] = vote_share\n",
    "                #Take the decimal remainder of the allocation\n",
    "                df_receiving_votes.at[index,rem_var] = vote_share%1\n",
    "                #Take the floor of the allocation\n",
    "                df_receiving_votes.at[index,floor_var] = np.floor(vote_share)\n",
    "\n",
    "    #After the first pass through, get the sums of the races by district to assist in the rounding            \n",
    "    first_allocation = pd.DataFrame(df_receiving_votes.groupby([col_allocating]).sum())\n",
    "\n",
    "    #Now we want to iterate district by district to work on rounding\n",
    "    county_list = list(to_dole_out_totals[col_allocating].unique()) \n",
    "\n",
    "    #Iterate over the district\n",
    "    for county in county_list:\n",
    "        for race in column_list:\n",
    "            add_var = race+\"_add\"\n",
    "            rem_var = race+\"_rem\"\n",
    "            floor_var = race+\"_floor\"\n",
    "            #County how many votes still need to be allocated (because we took the floor of all the initial allocations)\n",
    "            to_go = int(np.round((int(to_dole_out_totals.loc[to_dole_out_totals[col_allocating]==county][race])-first_allocation.loc[first_allocation.index==county,floor_var])))\n",
    "            #Grab the n precincts with the highest remainders and round these up, where n is the # of votes that still need to be allocated\n",
    "            for index in df_receiving_votes.loc[df_receiving_votes[col_allocating]==county][rem_var].nlargest(to_go).index:\n",
    "                df_receiving_votes.at[index,add_var] = np.ceil(df_receiving_votes.at[index,add_var])\n",
    "\n",
    "    #Iterate over every race again\n",
    "    for race in column_list:\n",
    "        add_var = race+\"_add\"\n",
    "        #Round every allocation down to not add fractional votes\n",
    "        df_receiving_votes.loc[:,add_var]=np.floor(df_receiving_votes.loc[:,add_var])\n",
    "        df_receiving_votes.loc[:,race]+=df_receiving_votes.loc[:,add_var]\n",
    "        \n",
    "    df_receiving_votes = df_receiving_votes[original_cols]\n",
    "    \n",
    "    return df_receiving_votes"
   ]
  },
  {
   "cell_type": "markdown",
   "id": "received-dublin",
   "metadata": {},
   "source": [
    "2. precinct level validation"
   ]
  },
  {
   "cell_type": "code",
   "execution_count": 5,
   "id": "widespread-compatibility",
   "metadata": {},
   "outputs": [],
   "source": [
    "def precinct_votes_check(merged_df,column_list,vest_on_left,name_col,print_level=0):\n",
    "    merged_df = merged_df.sort_values(by=[name_col],inplace=False)\n",
    "    matching_rows = 0\n",
    "    different_rows = 0\n",
    "    diff_list=[]\n",
    "    diff_values = []\n",
    "    max_diff = 0\n",
    "    for index,row in merged_df.iterrows():\n",
    "        same = True\n",
    "        for i in column_list:\n",
    "            left_data = i + \"_x\"\n",
    "            right_data = i + \"_y\"\n",
    "            if ((row[left_data] is None) or (row[right_data] is None) or (np.isnan(row[right_data])or(np.isnan(row[left_data])))):\n",
    "                print(\"FIX NaN value at: \", row[name_col])\n",
    "                return;\n",
    "            diff = abs(row[left_data]-row[right_data])\n",
    "            if (diff>0):\n",
    "                same = False\n",
    "                diff_values.append(abs(diff))\n",
    "                if (diff>max_diff):\n",
    "                    max_diff = diff\n",
    "            if(diff>print_level):\n",
    "                if (vest_on_left):\n",
    "                    print(i, \"{:.>72}\".format(row[name_col]), \"(V)\",\"{:.>5}\".format(int(row[left_data])),\" (S){:.>5}\".format(int(row[right_data])),\"(D):{:>5}\".format(int(row[left_data]-row[right_data])))                           \n",
    "                else:\n",
    "                    print(i, \"{:.>72}\".format(row[name_col]), \"(S)\",\"{:.>5}\".format(int(row[left_data])),\" (V){:.>5}\".format(int(row[right_data])),\"(D):{:>5}\".format(int(row[left_data]-row[right_data])))\n",
    "        if(same != True):\n",
    "            different_rows +=1\n",
    "            diff_list.append(row[name_col])\n",
    "        else:\n",
    "            matching_rows +=1\n",
    "    print(\"\")\n",
    "    print(\"There are \", len(merged_df.index),\" total rows\")\n",
    "    print(different_rows,\" of these rows have election result differences\")\n",
    "    print(matching_rows,\" of these rows are the same\")\n",
    "    print(\"\")\n",
    "    print(\"The max difference between any one shared column in a row is: \", max_diff)\n",
    "    if(len(diff_values)!=0):\n",
    "        print(\"The average difference is: \", str(sum(diff_values)/len(diff_values)))\n",
    "    count_big_diff = len([i for i in diff_values if i > 10])\n",
    "    print(\"There are \", str(count_big_diff), \"precinct results with a difference greater than 10\")\n",
    "    print(\"\")\n",
    "    print(\"All precincts containing differences:\")\n",
    "    diff_list.sort()\n",
    "    print(diff_list)"
   ]
  },
  {
   "cell_type": "markdown",
   "id": "dominican-guatemala",
   "metadata": {},
   "source": [
    "3. state level validation"
   ]
  },
  {
   "cell_type": "code",
   "execution_count": 6,
   "id": "ordinary-connecticut",
   "metadata": {},
   "outputs": [],
   "source": [
    "def statewide_totals_check(partner_df,source_df,column_list):\n",
    "    print(\"***Statewide Totals Check***\")\n",
    "    for race in column_list:\n",
    "        if (sum(partner_df[race])- source_df[race].sum() != 0):\n",
    "            print(race+\" has a difference of \"+str(sum(partner_df[race])-source_df[race].sum())+\" votes\")\n",
    "            print(\"\\tVEST: \"+str(sum(partner_df[race]))+\" votes\")\n",
    "            print(\"\\tSOURCES: \"+str(source_df[race].sum())+\" votes\")\n",
    "        else:\n",
    "            print(race + \" is equal\", \"\\tVEST / RDH: \" + str(sum(partner_df[race])))"
   ]
  },
  {
   "cell_type": "markdown",
   "id": "furnished-thomson",
   "metadata": {},
   "source": [
    "4. county level validation"
   ]
  },
  {
   "cell_type": "code",
   "execution_count": 7,
   "id": "returning-jackson",
   "metadata": {},
   "outputs": [],
   "source": [
    "def county_totals_check(partner_df,source_df,column_list,county_col,full_print=False):\n",
    "    print(\"***Countywide Totals Check***\")\n",
    "    print(\"\")\n",
    "    diff_counties=[]\n",
    "    for race in column_list:\n",
    "        diff = partner_df.groupby([county_col]).sum()[race]-source_df.groupby([county_col]).sum()[race]\n",
    "        for val in diff[diff != 0].index.values.tolist():\n",
    "            if val not in diff_counties:\n",
    "                diff_counties.append(val)\n",
    "        if len(diff[diff != 0]!=0):   \n",
    "            print(race + \" contains differences in these counties:\")\n",
    "            for val in diff[diff != 0].index.values.tolist():\n",
    "                county_differences = diff[diff != 0]\n",
    "                print(\"\\t\"+val+\" has a difference of \"+str(county_differences[val])+\" votes\")\n",
    "                print(\"\\t\\tVEST: \"+str(partner_df.groupby([county_col]).sum().loc[val,race])+\" votes\")\n",
    "                print(\"\\t\\tSOURCES: \"+str(source_df.groupby([county_col]).sum().loc[val,race])+\" votes\")\n",
    "            if (full_print):\n",
    "                for val in diff[diff == 0].index.values.tolist():\n",
    "                    county_similarities = diff[diff == 0]\n",
    "                    print(\"\\t\"+val + \": \"+ str(partner_df.groupby([county_col]).sum().loc[val,race])+\" votes\")\n",
    "        else:\n",
    "            print(race + \" is equal across all counties\")\n",
    "            if (full_print):\n",
    "                for val in diff[diff == 0].index.values.tolist():\n",
    "                    county_similarities = diff[diff == 0]\n",
    "                    print(\"\\t\"+val + \": \"+ str(partner_df.groupby([county_col]).sum().loc[val,race])+\" votes\")"
   ]
  },
  {
   "cell_type": "markdown",
   "id": "instructional-black",
   "metadata": {},
   "source": [
    "## VEST's Documentation File"
   ]
  },
  {
   "cell_type": "markdown",
   "id": "certified-client",
   "metadata": {},
   "source": [
    "### Sources"
   ]
  },
  {
   "cell_type": "markdown",
   "id": "descending-bhutan",
   "metadata": {},
   "source": [
    "Election results from Rhode Island Board of Elections (https://www.ri.gov/election/results/2016/general_election/data/)\n",
    "\n",
    "Precinct shapefile from the U.S. Census Bureau's 2020 Redistricting Data Program final release. (not applicable)"
   ]
  },
  {
   "cell_type": "markdown",
   "id": "parliamentary-duration",
   "metadata": {},
   "source": [
    "### Processing"
   ]
  },
  {
   "cell_type": "markdown",
   "id": "difficult-anatomy",
   "metadata": {},
   "source": [
    "Election data processing:\n",
    "   - Limited ballots were reported by township. \n",
    "   - Federal ballots were reported by congressional district. These were distributed by candidate to precincts based on their share of the precinct-level vote for the given reporting unit.\n",
    "\n",
    "\n",
    "Shapefile processing (non applicable):\n",
    "- Several precincts in Providence were aligned with the city ward shapefile. \n",
    "- Newport 2 and Newport 9 were merged to reverse a split that took place after the 2016 election.\n"
   ]
  },
  {
   "cell_type": "markdown",
   "id": "worst-morris",
   "metadata": {},
   "source": [
    "### Candidates"
   ]
  },
  {
   "cell_type": "markdown",
   "id": "civil-pizza",
   "metadata": {},
   "source": [
    "- G16PREDCLI - Hillary Clinton (Democratic Party)\n",
    "- G16PRERTRU - Donald Trump (Republican Party)\n",
    "- G16PRELJOH - Gary Johnson (Libertarian Party)\n",
    "- G16PREGSTE - Jill Stein (Green Party)\n",
    "- G16PREAROC - \"Rocky\" Roque De La Fuente (American Delta Party)\n",
    "- G16PREOWRI - Write-in Votes"
   ]
  },
  {
   "cell_type": "code",
   "execution_count": 8,
   "id": "endless-blackjack",
   "metadata": {},
   "outputs": [],
   "source": [
    "races = [\n",
    "    'G16PREAFUE', \n",
    "    'G16PRERTRU', \n",
    "    'G16PRELJOH', \n",
    "    'G16PREDCLI', \n",
    "    'G16PREGSTE', \n",
    "    'G16PREOWRI'\n",
    "]"
   ]
  },
  {
   "cell_type": "markdown",
   "id": "formed-occupation",
   "metadata": {},
   "source": [
    "## Load in VEST file"
   ]
  },
  {
   "cell_type": "code",
   "execution_count": 9,
   "id": "macro-custom",
   "metadata": {},
   "outputs": [],
   "source": [
    "state_name_year = STATE_NAME + '_' + STATE_YEAR\n",
    "path_to_vest_file = 'raw-from-source/VEST/' + state_name_year + '/' + state_name_year + '.shp'\n",
    "vest = gp.read_file(path_to_vest_file)"
   ]
  },
  {
   "cell_type": "code",
   "execution_count": 10,
   "id": "thorough-scratch",
   "metadata": {},
   "outputs": [
    {
     "data": {
      "text/plain": [
       "<Geographic 2D CRS: EPSG:4269>\n",
       "Name: NAD83\n",
       "Axis Info [ellipsoidal]:\n",
       "- Lat[north]: Geodetic latitude (degree)\n",
       "- Lon[east]: Geodetic longitude (degree)\n",
       "Area of Use:\n",
       "- name: North America - onshore and offshore: Canada - Alberta; British Columbia; Manitoba; New Brunswick; Newfoundland and Labrador; Northwest Territories; Nova Scotia; Nunavut; Ontario; Prince Edward Island; Quebec; Saskatchewan; Yukon. Puerto Rico. United States (USA) - Alabama; Alaska; Arizona; Arkansas; California; Colorado; Connecticut; Delaware; Florida; Georgia; Hawaii; Idaho; Illinois; Indiana; Iowa; Kansas; Kentucky; Louisiana; Maine; Maryland; Massachusetts; Michigan; Minnesota; Mississippi; Missouri; Montana; Nebraska; Nevada; New Hampshire; New Jersey; New Mexico; New York; North Carolina; North Dakota; Ohio; Oklahoma; Oregon; Pennsylvania; Rhode Island; South Carolina; South Dakota; Tennessee; Texas; Utah; Vermont; Virginia; Washington; West Virginia; Wisconsin; Wyoming. US Virgin Islands.  British Virgin Islands.\n",
       "- bounds: (167.65, 14.92, -47.74, 86.46)\n",
       "Datum: North American Datum 1983\n",
       "- Ellipsoid: GRS 1980\n",
       "- Prime Meridian: Greenwich"
      ]
     },
     "execution_count": 10,
     "metadata": {},
     "output_type": "execute_result"
    }
   ],
   "source": [
    "vest.crs"
   ]
  },
  {
   "cell_type": "code",
   "execution_count": 11,
   "id": "nasty-wisconsin",
   "metadata": {},
   "outputs": [
    {
     "data": {
      "text/plain": [
       "<AxesSubplot:>"
      ]
     },
     "execution_count": 11,
     "metadata": {},
     "output_type": "execute_result"
    },
    {
     "data": {
      "image/png": "[encoded data removed]",
      "text/plain": [
       "<Figure size 432x288 with 1 Axes>"
      ]
     },
     "metadata": {
      "needs_background": "light"
     },
     "output_type": "display_data"
    }
   ],
   "source": [
    "vest.boundary.plot()"
   ]
  },
  {
   "cell_type": "code",
   "execution_count": 12,
   "id": "bright-tuning",
   "metadata": {},
   "outputs": [
    {
     "data": {
      "text/plain": [
       "Index(['STATEFP20', 'COUNTYFP20', 'VTDST20', 'GEOID20', 'NAME20', 'G16PREDCLI',\n",
       "       'G16PRERTRU', 'G16PRELJOH', 'G16PREGSTE', 'G16PREAFUE', 'G16PREOWRI',\n",
       "       'geometry'],\n",
       "      dtype='object')"
      ]
     },
     "execution_count": 12,
     "metadata": {},
     "output_type": "execute_result"
    }
   ],
   "source": [
    "vest.columns"
   ]
  },
  {
   "cell_type": "code",
   "execution_count": 13,
   "id": "applied-difference",
   "metadata": {},
   "outputs": [
    {
     "data": {
      "text/html": [
       "<div>\n",
       "<style scoped>\n",
       "    .dataframe tbody tr th:only-of-type {\n",
       "        vertical-align: middle;\n",
       "    }\n",
       "\n",
       "    .dataframe tbody tr th {\n",
       "        vertical-align: top;\n",
       "    }\n",
       "\n",
       "    .dataframe thead th {\n",
       "        text-align: right;\n",
       "    }\n",
       "</style>\n",
       "<table border=\"1\" class=\"dataframe\">\n",
       "  <thead>\n",
       "    <tr style=\"text-align: right;\">\n",
       "      <th></th>\n",
       "      <th>STATEFP20</th>\n",
       "      <th>COUNTYFP20</th>\n",
       "      <th>VTDST20</th>\n",
       "      <th>GEOID20</th>\n",
       "      <th>NAME20</th>\n",
       "      <th>G16PREDCLI</th>\n",
       "      <th>G16PRERTRU</th>\n",
       "      <th>G16PRELJOH</th>\n",
       "      <th>G16PREGSTE</th>\n",
       "      <th>G16PREAFUE</th>\n",
       "      <th>G16PREOWRI</th>\n",
       "      <th>geometry</th>\n",
       "    </tr>\n",
       "  </thead>\n",
       "  <tbody>\n",
       "    <tr>\n",
       "      <th>0</th>\n",
       "      <td>44</td>\n",
       "      <td>009</td>\n",
       "      <td>443208</td>\n",
       "      <td>44009443208</td>\n",
       "      <td>South Kingstown 8</td>\n",
       "      <td>1143</td>\n",
       "      <td>729</td>\n",
       "      <td>74</td>\n",
       "      <td>35</td>\n",
       "      <td>6</td>\n",
       "      <td>49</td>\n",
       "      <td>POLYGON ((-71.60673 41.41403, -71.60623 41.415...</td>\n",
       "    </tr>\n",
       "    <tr>\n",
       "      <th>1</th>\n",
       "      <td>44</td>\n",
       "      <td>007</td>\n",
       "      <td>440724</td>\n",
       "      <td>44007440724</td>\n",
       "      <td>Cranston 24</td>\n",
       "      <td>1047</td>\n",
       "      <td>300</td>\n",
       "      <td>38</td>\n",
       "      <td>24</td>\n",
       "      <td>5</td>\n",
       "      <td>41</td>\n",
       "      <td>POLYGON ((-71.40395 41.77325, -71.40316 41.774...</td>\n",
       "    </tr>\n",
       "    <tr>\n",
       "      <th>2</th>\n",
       "      <td>44</td>\n",
       "      <td>005</td>\n",
       "      <td>ZZZZZZ</td>\n",
       "      <td>44005ZZZZZZ</td>\n",
       "      <td>Voting Districts Not Defined</td>\n",
       "      <td>0</td>\n",
       "      <td>0</td>\n",
       "      <td>0</td>\n",
       "      <td>0</td>\n",
       "      <td>0</td>\n",
       "      <td>0</td>\n",
       "      <td>POLYGON ((-71.50944 41.30773, -71.50660 41.312...</td>\n",
       "    </tr>\n",
       "    <tr>\n",
       "      <th>3</th>\n",
       "      <td>44</td>\n",
       "      <td>005</td>\n",
       "      <td>441501</td>\n",
       "      <td>44005441501</td>\n",
       "      <td>JAMESTOWN 1</td>\n",
       "      <td>1126</td>\n",
       "      <td>560</td>\n",
       "      <td>51</td>\n",
       "      <td>21</td>\n",
       "      <td>4</td>\n",
       "      <td>39</td>\n",
       "      <td>POLYGON ((-71.38543 41.55423, -71.38534 41.554...</td>\n",
       "    </tr>\n",
       "    <tr>\n",
       "      <th>4</th>\n",
       "      <td>44</td>\n",
       "      <td>005</td>\n",
       "      <td>441502</td>\n",
       "      <td>44005441502</td>\n",
       "      <td>JAMESTOWN 2</td>\n",
       "      <td>1052</td>\n",
       "      <td>588</td>\n",
       "      <td>68</td>\n",
       "      <td>25</td>\n",
       "      <td>2</td>\n",
       "      <td>33</td>\n",
       "      <td>POLYGON ((-71.42190 41.44900, -71.41727 41.455...</td>\n",
       "    </tr>\n",
       "  </tbody>\n",
       "</table>\n",
       "</div>"
      ],
      "text/plain": [
       "  STATEFP20 COUNTYFP20 VTDST20      GEOID20                        NAME20  \\\n",
       "0        44        009  443208  44009443208             South Kingstown 8   \n",
       "1        44        007  440724  44007440724                   Cranston 24   \n",
       "2        44        005  ZZZZZZ  44005ZZZZZZ  Voting Districts Not Defined   \n",
       "3        44        005  441501  44005441501                   JAMESTOWN 1   \n",
       "4        44        005  441502  44005441502                   JAMESTOWN 2   \n",
       "\n",
       "   G16PREDCLI  G16PRERTRU  G16PRELJOH  G16PREGSTE  G16PREAFUE  G16PREOWRI  \\\n",
       "0        1143         729          74          35           6          49   \n",
       "1        1047         300          38          24           5          41   \n",
       "2           0           0           0           0           0           0   \n",
       "3        1126         560          51          21           4          39   \n",
       "4        1052         588          68          25           2          33   \n",
       "\n",
       "                                            geometry  \n",
       "0  POLYGON ((-71.60673 41.41403, -71.60623 41.415...  \n",
       "1  POLYGON ((-71.40395 41.77325, -71.40316 41.774...  \n",
       "2  POLYGON ((-71.50944 41.30773, -71.50660 41.312...  \n",
       "3  POLYGON ((-71.38543 41.55423, -71.38534 41.554...  \n",
       "4  POLYGON ((-71.42190 41.44900, -71.41727 41.455...  "
      ]
     },
     "execution_count": 13,
     "metadata": {},
     "output_type": "execute_result"
    }
   ],
   "source": [
    "vest.head(5)"
   ]
  },
  {
   "cell_type": "code",
   "execution_count": 14,
   "id": "invalid-paradise",
   "metadata": {},
   "outputs": [
    {
     "data": {
      "text/plain": [
       "(422, 12)"
      ]
     },
     "execution_count": 14,
     "metadata": {},
     "output_type": "execute_result"
    }
   ],
   "source": [
    "vest.shape"
   ]
  },
  {
   "cell_type": "code",
   "execution_count": 15,
   "id": "soviet-morgan",
   "metadata": {},
   "outputs": [
    {
     "data": {
      "text/plain": [
       "array(['44'], dtype=object)"
      ]
     },
     "execution_count": 15,
     "metadata": {},
     "output_type": "execute_result"
    }
   ],
   "source": [
    "vest.STATEFP20.unique()"
   ]
  },
  {
   "cell_type": "markdown",
   "id": "complicated-longitude",
   "metadata": {},
   "source": [
    "make sure VTDST20 is a unique column"
   ]
  },
  {
   "cell_type": "code",
   "execution_count": 16,
   "id": "quality-actress",
   "metadata": {},
   "outputs": [],
   "source": [
    "assert(len(vest['VTDST20']) == len(vest['VTDST20'].unique()))"
   ]
  },
  {
   "cell_type": "markdown",
   "id": "hydraulic-agenda",
   "metadata": {},
   "source": [
    "Note: VTDST20 is a combination of two digit STATEFP20 (44) and the unique Precinct ID used by the source file"
   ]
  },
  {
   "cell_type": "markdown",
   "id": "higher-november",
   "metadata": {},
   "source": [
    "## Election Results"
   ]
  },
  {
   "cell_type": "markdown",
   "id": "spiritual-suffering",
   "metadata": {},
   "source": [
    "### Load, Clean, Pivot Election Results"
   ]
  },
  {
   "cell_type": "code",
   "execution_count": 17,
   "id": "precise-present",
   "metadata": {},
   "outputs": [],
   "source": [
    "source_filepath = 'raw-from-source/Election_Results/rigen2016l.asc'"
   ]
  },
  {
   "cell_type": "markdown",
   "id": "arbitrary-diary",
   "metadata": {},
   "source": [
    "Using non-standard method of importing due to the format of the file (.asc)"
   ]
  },
  {
   "cell_type": "code",
   "execution_count": 18,
   "id": "medieval-romantic",
   "metadata": {},
   "outputs": [],
   "source": [
    "with open(source_filepath) as f:\n",
    "    values = []\n",
    "    for idx, line in enumerate(f):\n",
    "        data = line.split('  ')\n",
    "        data = list(filter(None, data))\n",
    "        values.append(data)\n",
    "    raw_df = pd.DataFrame(values)"
   ]
  },
  {
   "cell_type": "markdown",
   "id": "honey-bryan",
   "metadata": {},
   "source": [
    "Select presidential race"
   ]
  },
  {
   "cell_type": "code",
   "execution_count": 19,
   "id": "orange-match",
   "metadata": {},
   "outputs": [],
   "source": [
    "pres_df = (raw_df[raw_df[1] == ' Presidential Electors For:'])"
   ]
  },
  {
   "cell_type": "markdown",
   "id": "executive-contrary",
   "metadata": {},
   "source": [
    "Create a dataframe and populate it with the information provided by raw file (the disambiguation for using specific substrings of the long .asc numbers can be found via the following link: https://www.ri.gov/election/results/20160902_data_description.pdf )"
   ]
  },
  {
   "cell_type": "code",
   "execution_count": 20,
   "id": "nearby-finland",
   "metadata": {},
   "outputs": [],
   "source": [
    "pre_pivot = pd.DataFrame()\n",
    "pre_pivot['contest'] = pres_df[0].apply(lambda x: x[:4])\n",
    "pre_pivot['candidate'] = pres_df[0].apply(lambda x: x[4:7])\n",
    "pre_pivot['precinct'] = pres_df[0].apply(lambda x: x[7:11])\n",
    "pre_pivot['votes'] = pres_df[0].apply(lambda x: x[11:17]).astype(int)\n",
    "pre_pivot['candidate_name'] = pres_df[2]\n",
    "pre_pivot['precinct_name'] = pres_df[3]\n",
    "pre_pivot['precinct_subcode'] = pres_df[4]"
   ]
  },
  {
   "cell_type": "markdown",
   "id": "brutal-knowing",
   "metadata": {},
   "source": [
    "Clean the resulting dataframe due to the following two issues:\n",
    "- Candidate Roque 'Rocky' De La Fuente is loaded as two separate columns, likely due to the apostrophe in the name\n",
    "- Providence Limited is not split correctly into Providence and Limited to produce a correct township name - likely due to white spaces at the end of string"
   ]
  },
  {
   "cell_type": "code",
   "execution_count": 21,
   "id": "headed-occupation",
   "metadata": {},
   "outputs": [
    {
     "name": "stderr",
     "output_type": "stream",
     "text": [
      "<ipython-input-21-cc4e1027287f>:3: SettingWithCopyWarning: \n",
      "A value is trying to be set on a copy of a slice from a DataFrame.\n",
      "Try using .loc[row_indexer,col_indexer] = value instead\n",
      "\n",
      "See the caveats in the documentation: https://pandas.pydata.org/pandas-docs/stable/user_guide/indexing.html#returning-a-view-versus-a-copy\n",
      "  rocky['precinct_name'] = rocky['precinct_subcode']\n"
     ]
    },
    {
     "data": {
      "text/html": [
       "<div>\n",
       "<style scoped>\n",
       "    .dataframe tbody tr th:only-of-type {\n",
       "        vertical-align: middle;\n",
       "    }\n",
       "\n",
       "    .dataframe tbody tr th {\n",
       "        vertical-align: top;\n",
       "    }\n",
       "\n",
       "    .dataframe thead th {\n",
       "        text-align: right;\n",
       "    }\n",
       "</style>\n",
       "<table border=\"1\" class=\"dataframe\">\n",
       "  <thead>\n",
       "    <tr style=\"text-align: right;\">\n",
       "      <th></th>\n",
       "      <th>contest</th>\n",
       "      <th>candidate</th>\n",
       "      <th>precinct</th>\n",
       "      <th>votes</th>\n",
       "      <th>candidate_name</th>\n",
       "      <th>precinct_name</th>\n",
       "      <th>precinct_subcode</th>\n",
       "      <th>township</th>\n",
       "    </tr>\n",
       "  </thead>\n",
       "  <tbody>\n",
       "    <tr>\n",
       "      <th>0</th>\n",
       "      <td>0301</td>\n",
       "      <td>001</td>\n",
       "      <td>0101</td>\n",
       "      <td>522</td>\n",
       "      <td>Donald J. Trump</td>\n",
       "      <td>Barrington 0101</td>\n",
       "      <td>01 \\n</td>\n",
       "      <td>Barrington</td>\n",
       "    </tr>\n",
       "    <tr>\n",
       "      <th>1</th>\n",
       "      <td>0301</td>\n",
       "      <td>001</td>\n",
       "      <td>0102</td>\n",
       "      <td>683</td>\n",
       "      <td>Donald J. Trump</td>\n",
       "      <td>Barrington 0102</td>\n",
       "      <td>01 \\n</td>\n",
       "      <td>Barrington</td>\n",
       "    </tr>\n",
       "    <tr>\n",
       "      <th>2</th>\n",
       "      <td>0301</td>\n",
       "      <td>001</td>\n",
       "      <td>0103</td>\n",
       "      <td>469</td>\n",
       "      <td>Donald J. Trump</td>\n",
       "      <td>Barrington 0103</td>\n",
       "      <td>01 \\n</td>\n",
       "      <td>Barrington</td>\n",
       "    </tr>\n",
       "    <tr>\n",
       "      <th>3</th>\n",
       "      <td>0301</td>\n",
       "      <td>001</td>\n",
       "      <td>0104</td>\n",
       "      <td>611</td>\n",
       "      <td>Donald J. Trump</td>\n",
       "      <td>Barrington 0104</td>\n",
       "      <td>01 \\n</td>\n",
       "      <td>Barrington</td>\n",
       "    </tr>\n",
       "    <tr>\n",
       "      <th>4</th>\n",
       "      <td>0301</td>\n",
       "      <td>001</td>\n",
       "      <td>0105</td>\n",
       "      <td>590</td>\n",
       "      <td>Donald J. Trump</td>\n",
       "      <td>Barrington 0105</td>\n",
       "      <td>01 \\n</td>\n",
       "      <td>Barrington</td>\n",
       "    </tr>\n",
       "    <tr>\n",
       "      <th>...</th>\n",
       "      <td>...</td>\n",
       "      <td>...</td>\n",
       "      <td>...</td>\n",
       "      <td>...</td>\n",
       "      <td>...</td>\n",
       "      <td>...</td>\n",
       "      <td>...</td>\n",
       "      <td>...</td>\n",
       "    </tr>\n",
       "    <tr>\n",
       "      <th>2500</th>\n",
       "      <td>0301</td>\n",
       "      <td>005</td>\n",
       "      <td>3912</td>\n",
       "      <td>2</td>\n",
       "      <td>\"Rocky\" Roque</td>\n",
       "      <td>Woonsocket 3912</td>\n",
       "      <td>Woonsocket 3912</td>\n",
       "      <td>Woonsocket</td>\n",
       "    </tr>\n",
       "    <tr>\n",
       "      <th>2501</th>\n",
       "      <td>0301</td>\n",
       "      <td>005</td>\n",
       "      <td>3913</td>\n",
       "      <td>0</td>\n",
       "      <td>\"Rocky\" Roque</td>\n",
       "      <td>Woonsocket Limited</td>\n",
       "      <td>Woonsocket Limited</td>\n",
       "      <td>Woonsocket</td>\n",
       "    </tr>\n",
       "    <tr>\n",
       "      <th>2502</th>\n",
       "      <td>0301</td>\n",
       "      <td>005</td>\n",
       "      <td>3914</td>\n",
       "      <td>0</td>\n",
       "      <td>\"Rocky\" Roque</td>\n",
       "      <td>Woonsocket Presidential</td>\n",
       "      <td>Woonsocket Presidential</td>\n",
       "      <td>Woonsocket</td>\n",
       "    </tr>\n",
       "    <tr>\n",
       "      <th>2503</th>\n",
       "      <td>0301</td>\n",
       "      <td>005</td>\n",
       "      <td>9001</td>\n",
       "      <td>0</td>\n",
       "      <td>\"Rocky\" Roque</td>\n",
       "      <td>Federal Precinct #1</td>\n",
       "      <td>Federal Precinct #1</td>\n",
       "      <td>Federal Precinct</td>\n",
       "    </tr>\n",
       "    <tr>\n",
       "      <th>2504</th>\n",
       "      <td>0301</td>\n",
       "      <td>005</td>\n",
       "      <td>9002</td>\n",
       "      <td>0</td>\n",
       "      <td>\"Rocky\" Roque</td>\n",
       "      <td>Federal Precinct #2</td>\n",
       "      <td>Federal Precinct #2</td>\n",
       "      <td>Federal Precinct</td>\n",
       "    </tr>\n",
       "  </tbody>\n",
       "</table>\n",
       "<p>3006 rows × 8 columns</p>\n",
       "</div>"
      ],
      "text/plain": [
       "     contest candidate precinct  votes   candidate_name  \\\n",
       "0       0301       001     0101    522  Donald J. Trump   \n",
       "1       0301       001     0102    683  Donald J. Trump   \n",
       "2       0301       001     0103    469  Donald J. Trump   \n",
       "3       0301       001     0104    611  Donald J. Trump   \n",
       "4       0301       001     0105    590  Donald J. Trump   \n",
       "...      ...       ...      ...    ...              ...   \n",
       "2500    0301       005     3912      2    \"Rocky\" Roque   \n",
       "2501    0301       005     3913      0    \"Rocky\" Roque   \n",
       "2502    0301       005     3914      0    \"Rocky\" Roque   \n",
       "2503    0301       005     9001      0    \"Rocky\" Roque   \n",
       "2504    0301       005     9002      0    \"Rocky\" Roque   \n",
       "\n",
       "                 precinct_name          precinct_subcode          township  \n",
       "0              Barrington 0101                     01 \\n        Barrington  \n",
       "1              Barrington 0102                     01 \\n        Barrington  \n",
       "2              Barrington 0103                     01 \\n        Barrington  \n",
       "3              Barrington 0104                     01 \\n        Barrington  \n",
       "4              Barrington 0105                     01 \\n        Barrington  \n",
       "...                        ...                       ...               ...  \n",
       "2500           Woonsocket 3912           Woonsocket 3912        Woonsocket  \n",
       "2501        Woonsocket Limited        Woonsocket Limited        Woonsocket  \n",
       "2502   Woonsocket Presidential   Woonsocket Presidential        Woonsocket  \n",
       "2503       Federal Precinct #1       Federal Precinct #1  Federal Precinct  \n",
       "2504       Federal Precinct #2       Federal Precinct #2  Federal Precinct  \n",
       "\n",
       "[3006 rows x 8 columns]"
      ]
     },
     "execution_count": 21,
     "metadata": {},
     "output_type": "execute_result"
    }
   ],
   "source": [
    "rocky = pre_pivot[pre_pivot['precinct_name'] == 'De La Fuente']\n",
    "pre_pivot.drop(rocky.index, inplace = True)\n",
    "rocky['precinct_name'] = rocky['precinct_subcode']\n",
    "pre_pivot = pd.concat([pre_pivot, rocky])\n",
    "pre_pivot['township'] = pre_pivot['precinct_name'].apply(lambda x: x.rsplit(' ', 1)[0])\n",
    "pre_pivot['township'] = pre_pivot['township'].apply(lambda x: x.strip())\n",
    "pre_pivot['township'] = pre_pivot['township'].replace({'Providence Limited': 'Providence'})\n",
    "pre_pivot"
   ]
  },
  {
   "cell_type": "markdown",
   "id": "emotional-fleet",
   "metadata": {},
   "source": [
    "Create dictionaries to translate from id to township and from id to precinct name, to be used for vote allocation and validation"
   ]
  },
  {
   "cell_type": "code",
   "execution_count": 22,
   "id": "cathedral-trinidad",
   "metadata": {},
   "outputs": [],
   "source": [
    "id_to_township = pre_pivot[['precinct', 'township']]\n",
    "id_to_township_dict = dict(id_to_township.values)\n",
    "id_to_name = pre_pivot[['precinct', 'precinct_name']]\n",
    "id_to_name_dict = dict(id_to_name.values)"
   ]
  },
  {
   "cell_type": "markdown",
   "id": "abandoned-parts",
   "metadata": {},
   "source": [
    "#### Perform the Pivot"
   ]
  },
  {
   "cell_type": "code",
   "execution_count": 23,
   "id": "emotional-finder",
   "metadata": {},
   "outputs": [
    {
     "data": {
      "text/html": [
       "<div>\n",
       "<style scoped>\n",
       "    .dataframe tbody tr th:only-of-type {\n",
       "        vertical-align: middle;\n",
       "    }\n",
       "\n",
       "    .dataframe tbody tr th {\n",
       "        vertical-align: top;\n",
       "    }\n",
       "\n",
       "    .dataframe thead th {\n",
       "        text-align: right;\n",
       "    }\n",
       "</style>\n",
       "<table border=\"1\" class=\"dataframe\">\n",
       "  <thead>\n",
       "    <tr style=\"text-align: right;\">\n",
       "      <th></th>\n",
       "      <th>precinctid</th>\n",
       "      <th>G16PREAFUE</th>\n",
       "      <th>G16PRERTRU</th>\n",
       "      <th>G16PRELJOH</th>\n",
       "      <th>G16PREDCLI</th>\n",
       "      <th>G16PREGSTE</th>\n",
       "      <th>G16PREOWRI</th>\n",
       "    </tr>\n",
       "  </thead>\n",
       "  <tbody>\n",
       "    <tr>\n",
       "      <th>0</th>\n",
       "      <td>0101</td>\n",
       "      <td>2</td>\n",
       "      <td>522</td>\n",
       "      <td>60</td>\n",
       "      <td>1027</td>\n",
       "      <td>23</td>\n",
       "      <td>37</td>\n",
       "    </tr>\n",
       "    <tr>\n",
       "      <th>1</th>\n",
       "      <td>0102</td>\n",
       "      <td>3</td>\n",
       "      <td>683</td>\n",
       "      <td>68</td>\n",
       "      <td>1331</td>\n",
       "      <td>21</td>\n",
       "      <td>39</td>\n",
       "    </tr>\n",
       "    <tr>\n",
       "      <th>2</th>\n",
       "      <td>0103</td>\n",
       "      <td>0</td>\n",
       "      <td>469</td>\n",
       "      <td>59</td>\n",
       "      <td>1136</td>\n",
       "      <td>17</td>\n",
       "      <td>48</td>\n",
       "    </tr>\n",
       "    <tr>\n",
       "      <th>3</th>\n",
       "      <td>0104</td>\n",
       "      <td>2</td>\n",
       "      <td>611</td>\n",
       "      <td>78</td>\n",
       "      <td>1328</td>\n",
       "      <td>25</td>\n",
       "      <td>60</td>\n",
       "    </tr>\n",
       "    <tr>\n",
       "      <th>4</th>\n",
       "      <td>0105</td>\n",
       "      <td>4</td>\n",
       "      <td>590</td>\n",
       "      <td>69</td>\n",
       "      <td>1290</td>\n",
       "      <td>24</td>\n",
       "      <td>59</td>\n",
       "    </tr>\n",
       "    <tr>\n",
       "      <th>...</th>\n",
       "      <td>...</td>\n",
       "      <td>...</td>\n",
       "      <td>...</td>\n",
       "      <td>...</td>\n",
       "      <td>...</td>\n",
       "      <td>...</td>\n",
       "      <td>...</td>\n",
       "    </tr>\n",
       "    <tr>\n",
       "      <th>496</th>\n",
       "      <td>3912</td>\n",
       "      <td>2</td>\n",
       "      <td>448</td>\n",
       "      <td>37</td>\n",
       "      <td>506</td>\n",
       "      <td>18</td>\n",
       "      <td>17</td>\n",
       "    </tr>\n",
       "    <tr>\n",
       "      <th>497</th>\n",
       "      <td>3913</td>\n",
       "      <td>0</td>\n",
       "      <td>0</td>\n",
       "      <td>0</td>\n",
       "      <td>0</td>\n",
       "      <td>0</td>\n",
       "      <td>0</td>\n",
       "    </tr>\n",
       "    <tr>\n",
       "      <th>498</th>\n",
       "      <td>3914</td>\n",
       "      <td>0</td>\n",
       "      <td>73</td>\n",
       "      <td>2</td>\n",
       "      <td>104</td>\n",
       "      <td>4</td>\n",
       "      <td>4</td>\n",
       "    </tr>\n",
       "    <tr>\n",
       "      <th>499</th>\n",
       "      <td>9001</td>\n",
       "      <td>0</td>\n",
       "      <td>30</td>\n",
       "      <td>15</td>\n",
       "      <td>376</td>\n",
       "      <td>11</td>\n",
       "      <td>1</td>\n",
       "    </tr>\n",
       "    <tr>\n",
       "      <th>500</th>\n",
       "      <td>9002</td>\n",
       "      <td>0</td>\n",
       "      <td>23</td>\n",
       "      <td>1</td>\n",
       "      <td>261</td>\n",
       "      <td>6</td>\n",
       "      <td>4</td>\n",
       "    </tr>\n",
       "  </tbody>\n",
       "</table>\n",
       "<p>501 rows × 7 columns</p>\n",
       "</div>"
      ],
      "text/plain": [
       "    precinctid  G16PREAFUE  G16PRERTRU  G16PRELJOH  G16PREDCLI  G16PREGSTE  \\\n",
       "0         0101           2         522          60        1027          23   \n",
       "1         0102           3         683          68        1331          21   \n",
       "2         0103           0         469          59        1136          17   \n",
       "3         0104           2         611          78        1328          25   \n",
       "4         0105           4         590          69        1290          24   \n",
       "..         ...         ...         ...         ...         ...         ...   \n",
       "496       3912           2         448          37         506          18   \n",
       "497       3913           0           0           0           0           0   \n",
       "498       3914           0          73           2         104           4   \n",
       "499       9001           0          30          15         376          11   \n",
       "500       9002           0          23           1         261           6   \n",
       "\n",
       "     G16PREOWRI  \n",
       "0            37  \n",
       "1            39  \n",
       "2            48  \n",
       "3            60  \n",
       "4            59  \n",
       "..          ...  \n",
       "496          17  \n",
       "497           0  \n",
       "498           4  \n",
       "499           1  \n",
       "500           4  \n",
       "\n",
       "[501 rows x 7 columns]"
      ]
     },
     "metadata": {},
     "output_type": "display_data"
    }
   ],
   "source": [
    "pivoted = pd.pivot_table(pre_pivot,values=[\"votes\"],index=[\"precinct\"],columns=[\"candidate_name\"],aggfunc=sum)\n",
    "pivoted=pivoted.fillna(0)\n",
    "pivoted.reset_index(drop=False,inplace=True)\n",
    "pivoted.columns = pivoted.columns.droplevel(0)\n",
    "pivoted.columns = ['precinctid', 'G16PREAFUE', 'G16PRERTRU', 'G16PRELJOH', 'G16PREDCLI', 'G16PREGSTE', 'G16PREOWRI']\n",
    "\n",
    "display(pivoted)\n"
   ]
  },
  {
   "cell_type": "markdown",
   "id": "rolled-integral",
   "metadata": {},
   "source": [
    "Use previously created dictionaries to create columns for township and precinct_name"
   ]
  },
  {
   "cell_type": "code",
   "execution_count": 24,
   "id": "caring-harvard",
   "metadata": {},
   "outputs": [],
   "source": [
    "pivoted['township'] = pivoted['precinctid'].map(id_to_township_dict)\n",
    "pivoted['precinct_name'] = pivoted['precinctid'].map(id_to_name_dict)\n"
   ]
  },
  {
   "cell_type": "markdown",
   "id": "looking-distributor",
   "metadata": {},
   "source": [
    "Isolate federal level votes for later distribution"
   ]
  },
  {
   "cell_type": "code",
   "execution_count": 25,
   "id": "understanding-zimbabwe",
   "metadata": {},
   "outputs": [],
   "source": [
    "non_federal_df = pivoted[pivoted.township != 'Federal Precinct']\n",
    "federal_df = pivoted[pivoted.township == 'Federal Precinct']"
   ]
  },
  {
   "cell_type": "markdown",
   "id": "olive-librarian",
   "metadata": {},
   "source": [
    "#### Perform statewide election data validation"
   ]
  },
  {
   "cell_type": "code",
   "execution_count": 26,
   "id": "social-green",
   "metadata": {},
   "outputs": [
    {
     "name": "stdout",
     "output_type": "stream",
     "text": [
      "***Statewide Totals Check***\n",
      "G16PREAFUE is equal \tVEST / RDH: 671\n",
      "G16PRERTRU is equal \tVEST / RDH: 180543\n",
      "G16PRELJOH is equal \tVEST / RDH: 14746\n",
      "G16PREDCLI is equal \tVEST / RDH: 252525\n",
      "G16PREGSTE is equal \tVEST / RDH: 6220\n",
      "G16PREOWRI is equal \tVEST / RDH: 9439\n"
     ]
    }
   ],
   "source": [
    "statewide_totals_check(vest,pivoted,races)"
   ]
  },
  {
   "cell_type": "markdown",
   "id": "experienced-cotton",
   "metadata": {},
   "source": [
    "Township-by-township election data validation is performed after vote allocation (due to federal level vote distribution)"
   ]
  },
  {
   "cell_type": "markdown",
   "id": "norman-stationery",
   "metadata": {},
   "source": [
    "### Distribute federal and township level votes"
   ]
  },
  {
   "cell_type": "markdown",
   "id": "hollywood-reporter",
   "metadata": {},
   "source": [
    "Township-level distribution first results in 28 precincts being off by 1, while federal-level distribution first results in 34 - therefore the former is preferred"
   ]
  },
  {
   "cell_type": "markdown",
   "id": "interstate-arabic",
   "metadata": {},
   "source": [
    "#### Distribute township-level votes"
   ]
  },
  {
   "cell_type": "markdown",
   "id": "indirect-validation",
   "metadata": {},
   "source": [
    "Separate township-level and precinct-level votes into two dataframes"
   ]
  },
  {
   "cell_type": "code",
   "execution_count": 27,
   "id": "monetary-microphone",
   "metadata": {},
   "outputs": [],
   "source": [
    "townshipwide = non_federal_df[non_federal_df['precinct_name'].str.contains('Presidential|Limited')]\n",
    "non_townshipwide = non_federal_df.drop(townshipwide.index)"
   ]
  },
  {
   "cell_type": "markdown",
   "id": "balanced-witness",
   "metadata": {},
   "source": [
    "Perform the distribution"
   ]
  },
  {
   "cell_type": "code",
   "execution_count": 28,
   "id": "elegant-injury",
   "metadata": {},
   "outputs": [],
   "source": [
    "pre_fed_dist = allocate_absentee(non_townshipwide,townshipwide,races,'township')"
   ]
  },
  {
   "cell_type": "markdown",
   "id": "spatial-monster",
   "metadata": {},
   "source": [
    "#### Distribute federal-level votes"
   ]
  },
  {
   "cell_type": "code",
   "execution_count": 29,
   "id": "identified-daughter",
   "metadata": {},
   "outputs": [
    {
     "data": {
      "text/html": [
       "<div>\n",
       "<style scoped>\n",
       "    .dataframe tbody tr th:only-of-type {\n",
       "        vertical-align: middle;\n",
       "    }\n",
       "\n",
       "    .dataframe tbody tr th {\n",
       "        vertical-align: top;\n",
       "    }\n",
       "\n",
       "    .dataframe thead th {\n",
       "        text-align: right;\n",
       "    }\n",
       "</style>\n",
       "<table border=\"1\" class=\"dataframe\">\n",
       "  <thead>\n",
       "    <tr style=\"text-align: right;\">\n",
       "      <th></th>\n",
       "      <th>precinctid</th>\n",
       "      <th>G16PREAFUE</th>\n",
       "      <th>G16PRERTRU</th>\n",
       "      <th>G16PRELJOH</th>\n",
       "      <th>G16PREDCLI</th>\n",
       "      <th>G16PREGSTE</th>\n",
       "      <th>G16PREOWRI</th>\n",
       "      <th>township</th>\n",
       "      <th>precinct_name</th>\n",
       "    </tr>\n",
       "  </thead>\n",
       "  <tbody>\n",
       "    <tr>\n",
       "      <th>499</th>\n",
       "      <td>9001</td>\n",
       "      <td>0</td>\n",
       "      <td>30</td>\n",
       "      <td>15</td>\n",
       "      <td>376</td>\n",
       "      <td>11</td>\n",
       "      <td>1</td>\n",
       "      <td>Federal Precinct</td>\n",
       "      <td>Federal Precinct #1</td>\n",
       "    </tr>\n",
       "    <tr>\n",
       "      <th>500</th>\n",
       "      <td>9002</td>\n",
       "      <td>0</td>\n",
       "      <td>23</td>\n",
       "      <td>1</td>\n",
       "      <td>261</td>\n",
       "      <td>6</td>\n",
       "      <td>4</td>\n",
       "      <td>Federal Precinct</td>\n",
       "      <td>Federal Precinct #2</td>\n",
       "    </tr>\n",
       "  </tbody>\n",
       "</table>\n",
       "</div>"
      ],
      "text/plain": [
       "    precinctid  G16PREAFUE  G16PRERTRU  G16PRELJOH  G16PREDCLI  G16PREGSTE  \\\n",
       "499       9001           0          30          15         376          11   \n",
       "500       9002           0          23           1         261           6   \n",
       "\n",
       "     G16PREOWRI          township         precinct_name  \n",
       "499           1  Federal Precinct   Federal Precinct #1  \n",
       "500           4  Federal Precinct   Federal Precinct #2  "
      ]
     },
     "execution_count": 29,
     "metadata": {},
     "output_type": "execute_result"
    }
   ],
   "source": [
    "federal_df"
   ]
  },
  {
   "cell_type": "markdown",
   "id": "legislative-divide",
   "metadata": {},
   "source": [
    "Isolate Congress Representative election data "
   ]
  },
  {
   "cell_type": "code",
   "execution_count": 30,
   "id": "nutritional-martin",
   "metadata": {},
   "outputs": [],
   "source": [
    "rep_df = raw_df[raw_df[0].str.contains('Representative in Congress District')]"
   ]
  },
  {
   "cell_type": "markdown",
   "id": "indie-contributor",
   "metadata": {},
   "source": [
    "Create a dataframe that contains precinct id and district number:\n",
    "- chars in position 108-111 correspond with district number\n",
    "- 0030 refers to district 1, while 0031 refers to district 2"
   ]
  },
  {
   "cell_type": "code",
   "execution_count": 31,
   "id": "illegal-combine",
   "metadata": {},
   "outputs": [],
   "source": [
    "district_df = pd.DataFrame()\n",
    "district_df['precinct'] = rep_df[0].apply(lambda x: x[7:11])\n",
    "district_df['district'] = rep_df[0].apply(lambda x: x[107:111])\n",
    "district_df['district'] = district_df['district'].replace({'0030': '1'})\n",
    "district_df['district'] = district_df['district'].replace({'0031': '2'})\n"
   ]
  },
  {
   "cell_type": "markdown",
   "id": "comfortable-trouble",
   "metadata": {},
   "source": [
    "Convert the df into a dictionary to be used for vote distribution"
   ]
  },
  {
   "cell_type": "code",
   "execution_count": 32,
   "id": "european-petersburg",
   "metadata": {},
   "outputs": [],
   "source": [
    "id_to_district_dict = dict(district_df.values)"
   ]
  },
  {
   "cell_type": "markdown",
   "id": "mighty-palace",
   "metadata": {},
   "source": [
    "Create a district column in both precinct-level and federal-level dfs"
   ]
  },
  {
   "cell_type": "code",
   "execution_count": 33,
   "id": "desirable-actress",
   "metadata": {},
   "outputs": [
    {
     "name": "stderr",
     "output_type": "stream",
     "text": [
      "<ipython-input-33-38a12efbbf88>:1: SettingWithCopyWarning: \n",
      "A value is trying to be set on a copy of a slice from a DataFrame.\n",
      "Try using .loc[row_indexer,col_indexer] = value instead\n",
      "\n",
      "See the caveats in the documentation: https://pandas.pydata.org/pandas-docs/stable/user_guide/indexing.html#returning-a-view-versus-a-copy\n",
      "  pre_fed_dist['district'] = pre_fed_dist['precinctid'].map(id_to_district_dict)\n",
      "<ipython-input-33-38a12efbbf88>:2: SettingWithCopyWarning: \n",
      "A value is trying to be set on a copy of a slice from a DataFrame.\n",
      "Try using .loc[row_indexer,col_indexer] = value instead\n",
      "\n",
      "See the caveats in the documentation: https://pandas.pydata.org/pandas-docs/stable/user_guide/indexing.html#returning-a-view-versus-a-copy\n",
      "  federal_df['district'] = federal_df['precinctid'].map(id_to_district_dict)\n"
     ]
    }
   ],
   "source": [
    "pre_fed_dist['district'] = pre_fed_dist['precinctid'].map(id_to_district_dict)\n",
    "federal_df['district'] = federal_df['precinctid'].map(id_to_district_dict)"
   ]
  },
  {
   "cell_type": "markdown",
   "id": "unlikely-wayne",
   "metadata": {},
   "source": [
    "Perform the distribution"
   ]
  },
  {
   "cell_type": "code",
   "execution_count": 34,
   "id": "geographic-march",
   "metadata": {},
   "outputs": [
    {
     "name": "stderr",
     "output_type": "stream",
     "text": [
      "/Users/izzy/opt/anaconda3/envs/geo_env/lib/python3.9/site-packages/pandas/core/indexing.py:1597: SettingWithCopyWarning: \n",
      "A value is trying to be set on a copy of a slice from a DataFrame.\n",
      "Try using .loc[row_indexer,col_indexer] = value instead\n",
      "\n",
      "See the caveats in the documentation: https://pandas.pydata.org/pandas-docs/stable/user_guide/indexing.html#returning-a-view-versus-a-copy\n",
      "  self.obj[key] = value\n",
      "/Users/izzy/opt/anaconda3/envs/geo_env/lib/python3.9/site-packages/pandas/core/indexing.py:1720: SettingWithCopyWarning: \n",
      "A value is trying to be set on a copy of a slice from a DataFrame.\n",
      "Try using .loc[row_indexer,col_indexer] = value instead\n",
      "\n",
      "See the caveats in the documentation: https://pandas.pydata.org/pandas-docs/stable/user_guide/indexing.html#returning-a-view-versus-a-copy\n",
      "  self._setitem_single_column(loc, value, pi)\n",
      "/Users/izzy/opt/anaconda3/envs/geo_env/lib/python3.9/site-packages/pandas/core/indexing.py:1676: SettingWithCopyWarning: \n",
      "A value is trying to be set on a copy of a slice from a DataFrame.\n",
      "Try using .loc[row_indexer,col_indexer] = value instead\n",
      "\n",
      "See the caveats in the documentation: https://pandas.pydata.org/pandas-docs/stable/user_guide/indexing.html#returning-a-view-versus-a-copy\n",
      "  self._setitem_single_column(ilocs[0], value, pi)\n"
     ]
    }
   ],
   "source": [
    "source = allocate_absentee(pre_fed_dist,federal_df,races,'district')"
   ]
  },
  {
   "cell_type": "markdown",
   "id": "cubic-accommodation",
   "metadata": {},
   "source": [
    "#### Perform county level election data validation"
   ]
  },
  {
   "cell_type": "markdown",
   "id": "according-shock",
   "metadata": {},
   "source": [
    "Create a township column in vest df using names of precincts"
   ]
  },
  {
   "cell_type": "code",
   "execution_count": 35,
   "id": "coated-silly",
   "metadata": {},
   "outputs": [],
   "source": [
    "vest['township'] = vest['NAME20'].apply(lambda x: x.rsplit(' ', 1)[0].title())"
   ]
  },
  {
   "cell_type": "markdown",
   "id": "accepted-charity",
   "metadata": {},
   "source": [
    "Load in the nationwide FIPS file"
   ]
  },
  {
   "cell_type": "code",
   "execution_count": 47,
   "id": "average-saturday",
   "metadata": {},
   "outputs": [],
   "source": [
    "fips_file = pd.read_csv(\"./raw-from-source/FIPS/US_FIPS_Codes.csv\")"
   ]
  },
  {
   "cell_type": "markdown",
   "id": "compatible-passport",
   "metadata": {},
   "source": [
    "Create a FIPS number to county name dict"
   ]
  },
  {
   "cell_type": "code",
   "execution_count": 49,
   "id": "alleged-luther",
   "metadata": {},
   "outputs": [],
   "source": [
    "fips_file = fips_file[fips_file[\"State\"]==\"Rhode Island\"]\n",
    "fips_file[\"FIPS County\"]=fips_file[\"FIPS County\"].astype(str)\n",
    "\n",
    "#Make the FIPS three digits\n",
    "fips_file[\"FIPS County\"]=fips_file[\"FIPS County\"].str.zfill(3)\n",
    "\n",
    "#Create the dictionary\n",
    "fips_dict = dict(zip(fips_file[\"FIPS County\"], fips_file[\"County Name\"]))"
   ]
  },
  {
   "cell_type": "markdown",
   "id": "analyzed-heading",
   "metadata": {},
   "source": [
    "Make a new county field using the FIPS dict"
   ]
  },
  {
   "cell_type": "code",
   "execution_count": 52,
   "id": "average-commercial",
   "metadata": {},
   "outputs": [],
   "source": [
    "vest['county'] = vest['COUNTYFP20'].map(fips_dict)"
   ]
  },
  {
   "cell_type": "markdown",
   "id": "fifth-tracy",
   "metadata": {},
   "source": [
    "Create a precinctid to county dict"
   ]
  },
  {
   "cell_type": "code",
   "execution_count": 64,
   "id": "chinese-culture",
   "metadata": {},
   "outputs": [],
   "source": [
    "precinctid_to_county_dict = dict(zip(vest[\"VTDST20\"].apply(lambda x: x[2:]), vest[\"county\"]))"
   ]
  },
  {
   "cell_type": "markdown",
   "id": "fatty-adolescent",
   "metadata": {},
   "source": [
    "Apply dict to source df"
   ]
  },
  {
   "cell_type": "code",
   "execution_count": 67,
   "id": "imperial-chambers",
   "metadata": {},
   "outputs": [
    {
     "name": "stderr",
     "output_type": "stream",
     "text": [
      "<ipython-input-67-a09f88472416>:1: SettingWithCopyWarning: \n",
      "A value is trying to be set on a copy of a slice from a DataFrame.\n",
      "Try using .loc[row_indexer,col_indexer] = value instead\n",
      "\n",
      "See the caveats in the documentation: https://pandas.pydata.org/pandas-docs/stable/user_guide/indexing.html#returning-a-view-versus-a-copy\n",
      "  source['county'] = source['precinctid'].map(precinctid_to_county_dict)\n"
     ]
    }
   ],
   "source": [
    "source['county'] = source['precinctid'].map(precinctid_to_county_dict)"
   ]
  },
  {
   "cell_type": "markdown",
   "id": "closed-subject",
   "metadata": {},
   "source": [
    "Filter out township not present in source (which has zero votes and is not an official township)"
   ]
  },
  {
   "cell_type": "code",
   "execution_count": 68,
   "id": "dying-stadium",
   "metadata": {},
   "outputs": [
    {
     "data": {
      "text/html": [
       "<div>\n",
       "<style scoped>\n",
       "    .dataframe tbody tr th:only-of-type {\n",
       "        vertical-align: middle;\n",
       "    }\n",
       "\n",
       "    .dataframe tbody tr th {\n",
       "        vertical-align: top;\n",
       "    }\n",
       "\n",
       "    .dataframe thead th {\n",
       "        text-align: right;\n",
       "    }\n",
       "</style>\n",
       "<table border=\"1\" class=\"dataframe\">\n",
       "  <thead>\n",
       "    <tr style=\"text-align: right;\">\n",
       "      <th></th>\n",
       "      <th>STATEFP20</th>\n",
       "      <th>COUNTYFP20</th>\n",
       "      <th>VTDST20</th>\n",
       "      <th>GEOID20</th>\n",
       "      <th>NAME20</th>\n",
       "      <th>G16PREDCLI</th>\n",
       "      <th>G16PRERTRU</th>\n",
       "      <th>G16PRELJOH</th>\n",
       "      <th>G16PREGSTE</th>\n",
       "      <th>G16PREAFUE</th>\n",
       "      <th>G16PREOWRI</th>\n",
       "      <th>geometry</th>\n",
       "      <th>township</th>\n",
       "      <th>county</th>\n",
       "    </tr>\n",
       "  </thead>\n",
       "  <tbody>\n",
       "    <tr>\n",
       "      <th>2</th>\n",
       "      <td>44</td>\n",
       "      <td>005</td>\n",
       "      <td>ZZZZZZ</td>\n",
       "      <td>44005ZZZZZZ</td>\n",
       "      <td>Voting Districts Not Defined</td>\n",
       "      <td>0</td>\n",
       "      <td>0</td>\n",
       "      <td>0</td>\n",
       "      <td>0</td>\n",
       "      <td>0</td>\n",
       "      <td>0</td>\n",
       "      <td>POLYGON ((-71.50944 41.30773, -71.50660 41.312...</td>\n",
       "      <td>Voting Districts Not</td>\n",
       "      <td>Newport</td>\n",
       "    </tr>\n",
       "  </tbody>\n",
       "</table>\n",
       "</div>"
      ],
      "text/plain": [
       "  STATEFP20 COUNTYFP20 VTDST20      GEOID20                        NAME20  \\\n",
       "2        44        005  ZZZZZZ  44005ZZZZZZ  Voting Districts Not Defined   \n",
       "\n",
       "   G16PREDCLI  G16PRERTRU  G16PRELJOH  G16PREGSTE  G16PREAFUE  G16PREOWRI  \\\n",
       "2           0           0           0           0           0           0   \n",
       "\n",
       "                                            geometry              township  \\\n",
       "2  POLYGON ((-71.50944 41.30773, -71.50660 41.312...  Voting Districts Not   \n",
       "\n",
       "    county  \n",
       "2  Newport  "
      ]
     },
     "metadata": {},
     "output_type": "display_data"
    }
   ],
   "source": [
    "vest_filter_township = vest[vest['township'] != 'Voting Districts Not']\n",
    "display(vest[vest['township'] == 'Voting Districts Not'])"
   ]
  },
  {
   "cell_type": "markdown",
   "id": "brazilian-wilson",
   "metadata": {},
   "source": [
    "Check vote totals"
   ]
  },
  {
   "cell_type": "code",
   "execution_count": 71,
   "id": "animated-louis",
   "metadata": {},
   "outputs": [
    {
     "name": "stdout",
     "output_type": "stream",
     "text": [
      "***Countywide Totals Check***\n",
      "\n",
      "G16PREAFUE is equal across all counties\n",
      "G16PRERTRU is equal across all counties\n",
      "G16PRELJOH is equal across all counties\n",
      "G16PREDCLI is equal across all counties\n",
      "G16PREGSTE contains differences in these counties:\n",
      "\tProvidence has a difference of 1.0 votes\n",
      "\t\tVEST: 3192 votes\n",
      "\t\tSOURCES: 3191.0 votes\n",
      "\tWashington has a difference of -1.0 votes\n",
      "\t\tVEST: 1066 votes\n",
      "\t\tSOURCES: 1067.0 votes\n",
      "G16PREOWRI is equal across all counties\n"
     ]
    }
   ],
   "source": [
    "county_totals_check(vest_filter_township,source,races,'county',full_print=False)"
   ]
  },
  {
   "cell_type": "markdown",
   "id": "smaller-receptor",
   "metadata": {},
   "source": [
    "### Merge Source and VEST df"
   ]
  },
  {
   "cell_type": "markdown",
   "id": "narrow-creek",
   "metadata": {},
   "source": [
    "Create a joinid field"
   ]
  },
  {
   "cell_type": "code",
   "execution_count": 38,
   "id": "inclusive-context",
   "metadata": {},
   "outputs": [
    {
     "name": "stderr",
     "output_type": "stream",
     "text": [
      "<ipython-input-38-2cd22a1bd623>:2: SettingWithCopyWarning: \n",
      "A value is trying to be set on a copy of a slice from a DataFrame.\n",
      "Try using .loc[row_indexer,col_indexer] = value instead\n",
      "\n",
      "See the caveats in the documentation: https://pandas.pydata.org/pandas-docs/stable/user_guide/indexing.html#returning-a-view-versus-a-copy\n",
      "  source['joinid'] = vest.STATEFP20.unique()[0] + source['precinctid'].astype(str)\n"
     ]
    }
   ],
   "source": [
    "vest['joinid'] = vest['VTDST20']\n",
    "source['joinid'] = vest.STATEFP20.unique()[0] + source['precinctid'].astype(str)"
   ]
  },
  {
   "cell_type": "markdown",
   "id": "hybrid-organic",
   "metadata": {},
   "source": [
    "Perform the merge"
   ]
  },
  {
   "cell_type": "code",
   "execution_count": 39,
   "id": "balanced-routine",
   "metadata": {},
   "outputs": [
    {
     "name": "stdout",
     "output_type": "stream",
     "text": [
      "both          420\n",
      "left_only       2\n",
      "right_only      0\n",
      "Name: _merge, dtype: int64\n"
     ]
    }
   ],
   "source": [
    "join_attempt = pd.merge(vest,source,how=\"outer\",on=\"joinid\",indicator=True)\n",
    "print(join_attempt[\"_merge\"].value_counts())\n",
    "\n",
    "\n",
    "merged = join_attempt[join_attempt[\"_merge\"]==\"both\"]\n",
    "right_only = join_attempt[join_attempt[\"_merge\"]==\"right_only\"]\n",
    "left_only = join_attempt[join_attempt[\"_merge\"]==\"left_only\"]\n",
    "\n",
    "left_only.to_csv('./left_only.csv')"
   ]
  },
  {
   "cell_type": "markdown",
   "id": "romance-rescue",
   "metadata": {},
   "source": [
    "Ensure non-merged precincts are zero-vote\n",
    "- Since left_only didn't merge, we'll be checking if any race_x votes are non_zero"
   ]
  },
  {
   "cell_type": "code",
   "execution_count": 40,
   "id": "complimentary-accounting",
   "metadata": {},
   "outputs": [
    {
     "name": "stdout",
     "output_type": "stream",
     "text": [
      "2\n"
     ]
    }
   ],
   "source": [
    "data_columns = races\n",
    "empty_precincts = []\n",
    "for index, row in left_only.iterrows():\n",
    "    number_of_zero_races = 0\n",
    "    for race in data_columns:\n",
    "        if (row[race + '_x']==0):\n",
    "            number_of_zero_races+= 1\n",
    "    if(number_of_zero_races == len(data_columns)):\n",
    "        empty_precincts.append(row[\"joinid\"])\n",
    "print(len(empty_precincts))\n",
    "assert(len(empty_precincts) == len(left_only))"
   ]
  },
  {
   "cell_type": "markdown",
   "id": "north-manitoba",
   "metadata": {},
   "source": [
    "Perform precinct-level validation"
   ]
  },
  {
   "cell_type": "code",
   "execution_count": 41,
   "id": "worst-cruise",
   "metadata": {},
   "outputs": [
    {
     "name": "stdout",
     "output_type": "stream",
     "text": [
      "G16PREGSTE ..................................................................440202 (V) ...10  (S)...11 (D):   -1\n",
      "G16PREOWRI ..................................................................440202 (V) ...18  (S)...19 (D):   -1\n",
      "G16PREGSTE ..................................................................440207 (V) ...11  (S)...10 (D):    1\n",
      "G16PREOWRI ..................................................................440207 (V) ...19  (S)...18 (D):    1\n",
      "G16PREGSTE ..................................................................440302 (V) ...22  (S)...21 (D):    1\n",
      "G16PREGSTE ..................................................................440303 (V) ...23  (S)...24 (D):   -1\n",
      "G16PRELJOH ..................................................................440601 (V) ...46  (S)...47 (D):   -1\n",
      "G16PRELJOH ..................................................................440616 (V) ...47  (S)...46 (D):    1\n",
      "G16PREDCLI ..................................................................440802 (V) ..754  (S)..755 (D):   -1\n",
      "G16PREDCLI ..................................................................440810 (V) ..755  (S)..754 (D):    1\n",
      "G16PREGSTE ..................................................................442104 (V) ....7  (S)....8 (D):   -1\n",
      "G16PREGSTE ..................................................................442105 (V) ...20  (S)...19 (D):    1\n",
      "G16PREGSTE ..................................................................442307 (V) ...39  (S)...40 (D):   -1\n",
      "G16PREAFUE ..................................................................442814 (V) ....3  (S)....4 (D):   -1\n",
      "G16PREAFUE ..................................................................442828 (V) ....3  (S)....4 (D):   -1\n",
      "G16PRELJOH ..................................................................442833 (V) ....8  (S)....9 (D):   -1\n",
      "G16PRELJOH ..................................................................442850 (V) ....8  (S)....9 (D):   -1\n",
      "G16PRERTRU ..................................................................442856 (V) ...13  (S)...14 (D):   -1\n",
      "G16PREAFUE ..................................................................442862 (V) ....4  (S)....3 (D):    1\n",
      "G16PRERTRU ..................................................................442865 (V) ...14  (S)...13 (D):    1\n",
      "G16PRELJOH ..................................................................442870 (V) ....9  (S)....8 (D):    1\n",
      "G16PREAFUE ..................................................................442874 (V) ....4  (S)....3 (D):    1\n",
      "G16PRELJOH ..................................................................442876 (V) ....9  (S)....8 (D):    1\n",
      "G16PREGSTE ..................................................................443003 (V) ...38  (S)...37 (D):    1\n",
      "G16PREGSTE ..................................................................443202 (V) ...34  (S)...35 (D):   -1\n",
      "G16PREGSTE ..................................................................443208 (V) ...35  (S)...34 (D):    1\n",
      "G16PREGSTE ..................................................................443905 (V) ...18  (S)...19 (D):   -1\n",
      "G16PRELJOH ..................................................................443907 (V) ...53  (S)...54 (D):   -1\n",
      "G16PRELJOH ..................................................................443909 (V) ...54  (S)...53 (D):    1\n",
      "G16PREGSTE ..................................................................443910 (V) ...19  (S)...18 (D):    1\n",
      "\n",
      "There are  420  total rows\n",
      "28  of these rows have election result differences\n",
      "392  of these rows are the same\n",
      "\n",
      "The max difference between any one shared column in a row is:  1.0\n",
      "The average difference is:  1.0\n",
      "There are  0 precinct results with a difference greater than 10\n",
      "\n",
      "All precincts containing differences:\n",
      "['440202', '440207', '440302', '440303', '440601', '440616', '440802', '440810', '442104', '442105', '442307', '442814', '442828', '442833', '442850', '442856', '442862', '442865', '442870', '442874', '442876', '443003', '443202', '443208', '443905', '443907', '443909', '443910']\n"
     ]
    }
   ],
   "source": [
    "precinct_votes_check(merged,races,True,'joinid',print_level=0)\n"
   ]
  },
  {
   "cell_type": "code",
   "execution_count": null,
   "id": "american-airplane",
   "metadata": {},
   "outputs": [],
   "source": []
  }
 ],
 "metadata": {
  "kernelspec": {
   "display_name": "Python 3",
   "language": "python",
   "name": "python3"
  },
  "language_info": {
   "codemirror_mode": {
    "name": "ipython",
    "version": 3
   },
   "file_extension": ".py",
   "mimetype": "text/x-python",
   "name": "python",
   "nbconvert_exporter": "python",
   "pygments_lexer": "ipython3",
   "version": "3.9.2"
  }
 },
 "nbformat": 4,
 "nbformat_minor": 5
}
